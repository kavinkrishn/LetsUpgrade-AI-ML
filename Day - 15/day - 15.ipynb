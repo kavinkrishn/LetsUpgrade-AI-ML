{
 "cells": [
  {
   "cell_type": "markdown",
   "metadata": {},
   "source": [
    "# 1. Create a 3x3x3 array with random values "
   ]
  },
  {
   "cell_type": "code",
   "execution_count": 2,
   "metadata": {},
   "outputs": [],
   "source": [
    "import numpy as np\n",
    "random = np.random.random([3,3,3])"
   ]
  },
  {
   "cell_type": "code",
   "execution_count": 3,
   "metadata": {},
   "outputs": [
    {
     "data": {
      "text/plain": [
       "array([[[0.46797308, 0.99616266, 0.43868115],\n",
       "        [0.39436174, 0.57624746, 0.91645071],\n",
       "        [0.10788817, 0.55184367, 0.22566958]],\n",
       "\n",
       "       [[0.24179324, 0.11094797, 0.20171061],\n",
       "        [0.95307848, 0.37081977, 0.84498608],\n",
       "        [0.42700431, 0.51949485, 0.24035963]],\n",
       "\n",
       "       [[0.29451671, 0.52682557, 0.50438909],\n",
       "        [0.00375546, 0.70223871, 0.21808418],\n",
       "        [0.73397286, 0.90343871, 0.21475154]]])"
      ]
     },
     "execution_count": 3,
     "metadata": {},
     "output_type": "execute_result"
    }
   ],
   "source": [
    "random"
   ]
  },
  {
   "cell_type": "markdown",
   "metadata": {},
   "source": [
    "# 2.Create a 5x5 matrix with values 1,2,3,4 just below the diagonal"
   ]
  },
  {
   "cell_type": "code",
   "execution_count": 18,
   "metadata": {},
   "outputs": [],
   "source": [
    "diagnoal = np.diag([1,2,3,4,4-4])"
   ]
  },
  {
   "cell_type": "code",
   "execution_count": 19,
   "metadata": {},
   "outputs": [
    {
     "data": {
      "text/plain": [
       "array([[1, 0, 0, 0, 0],\n",
       "       [0, 2, 0, 0, 0],\n",
       "       [0, 0, 3, 0, 0],\n",
       "       [0, 0, 0, 4, 0],\n",
       "       [0, 0, 0, 0, 0]])"
      ]
     },
     "execution_count": 19,
     "metadata": {},
     "output_type": "execute_result"
    }
   ],
   "source": [
    "diagnoal"
   ]
  },
  {
   "cell_type": "code",
   "execution_count": 20,
   "metadata": {},
   "outputs": [
    {
     "data": {
      "text/plain": [
       "(5, 5)"
      ]
     },
     "execution_count": 20,
     "metadata": {},
     "output_type": "execute_result"
    }
   ],
   "source": [
    "diagnoal.shape"
   ]
  },
  {
   "cell_type": "markdown",
   "metadata": {},
   "source": [
    "# 3.Create a 8x8 matrix and fill it with a checkerboard pattern"
   ]
  },
  {
   "cell_type": "code",
   "execution_count": 23,
   "metadata": {},
   "outputs": [
    {
     "data": {
      "text/plain": [
       "array([[0., 1., 0., 1., 0., 1., 0., 1.],\n",
       "       [1., 0., 1., 0., 1., 0., 1., 0.],\n",
       "       [0., 1., 0., 1., 0., 1., 0., 1.],\n",
       "       [1., 0., 1., 0., 1., 0., 1., 0.],\n",
       "       [0., 1., 0., 1., 0., 1., 0., 1.],\n",
       "       [1., 0., 1., 0., 1., 0., 1., 0.],\n",
       "       [0., 1., 0., 1., 0., 1., 0., 1.],\n",
       "       [1., 0., 1., 0., 1., 0., 1., 0.]])"
      ]
     },
     "execution_count": 23,
     "metadata": {},
     "output_type": "execute_result"
    }
   ],
   "source": [
    "a = np.zeros([8,8])\n",
    "a[1::2,::2]=1\n",
    "a[::2,1::2]=1\n",
    "a"
   ]
  },
  {
   "cell_type": "markdown",
   "metadata": {},
   "source": [
    "# 4. Normalize a 5x5 random matrix"
   ]
  },
  {
   "cell_type": "code",
   "execution_count": 26,
   "metadata": {},
   "outputs": [
    {
     "data": {
      "text/plain": [
       "array([[0.31780833, 0.01553407, 0.02414649, 0.18814863, 0.20989756],\n",
       "       [0.354063  , 0.18832599, 0.16507669, 0.06195749, 0.0029847 ],\n",
       "       [0.05961836, 0.0950016 , 0.26622464, 0.26677858, 0.02510495],\n",
       "       [0.16754827, 0.37329173, 0.01620135, 0.25069945, 0.14485849],\n",
       "       [0.26600195, 0.31697521, 0.16864266, 0.05061089, 0.1333684 ]])"
      ]
     },
     "execution_count": 26,
     "metadata": {},
     "output_type": "execute_result"
    }
   ],
   "source": [
    "ran = np.random.random([5,5])\n",
    "x = ran/np.linalg.norm(ran)\n",
    "x"
   ]
  },
  {
   "cell_type": "markdown",
   "metadata": {},
   "source": [
    "# 5.  How to find common values between two arrays?"
   ]
  },
  {
   "cell_type": "code",
   "execution_count": 27,
   "metadata": {},
   "outputs": [
    {
     "data": {
      "text/plain": [
       "array([1, 7])"
      ]
     },
     "execution_count": 27,
     "metadata": {},
     "output_type": "execute_result"
    }
   ],
   "source": [
    "a = np.array([1,2,3,4,5,6,7])\n",
    "b = np.array([1,7,8,9,10,11])\n",
    "com_value = np.intersect1d(a,b)\n",
    "com_value"
   ]
  },
  {
   "cell_type": "markdown",
   "metadata": {},
   "source": [
    "# 6.How to get the dates of yesterday, today and tomorrow?"
   ]
  },
  {
   "cell_type": "code",
   "execution_count": 36,
   "metadata": {},
   "outputs": [
    {
     "name": "stdout",
     "output_type": "stream",
     "text": [
      "Yesterday\n",
      " 2020-07-25\n",
      "Today\n",
      " 2020-07-26\n",
      "Yesterday\n",
      " 2020-07-27\n"
     ]
    }
   ],
   "source": [
    "yesterday = np.datetime64('today','D')-np.timedelta64(1,'D')\n",
    "print(\"Yesterday\\n\",yesterday)\n",
    "today = np.datetime64('today','D')\n",
    "print(\"Today\\n\",today)\n",
    "tomorrow = np.datetime64('today','D')+np.timedelta64(1,'D')\n",
    "print(\"Yesterday\\n\",tomorrow)"
   ]
  },
  {
   "cell_type": "markdown",
   "metadata": {},
   "source": [
    "# 7. Consider two random array A and B, check if they are equal"
   ]
  },
  {
   "cell_type": "code",
   "execution_count": 47,
   "metadata": {},
   "outputs": [
    {
     "name": "stdout",
     "output_type": "stream",
     "text": [
      "Array A: [16  1 10 13  4 15  5  0 15  7]\n",
      "Array B: [19 12 16 14  0  2  6 13  3 14]\n",
      "Array Values are equal= False\n"
     ]
    }
   ],
   "source": [
    "a = np.random.randint(0,20,10)\n",
    "print(\"Array A:\",a)\n",
    "b = np.random.randint(0,20,10)\n",
    "print(\"Array B:\",b)\n",
    "equal = np.array_equal(a,b)\n",
    "print(\"Array Values are equal=\",equal)"
   ]
  },
  {
   "cell_type": "markdown",
   "metadata": {},
   "source": [
    "# 8.Create random vector of size 10 and replace the maximum value by 0 "
   ]
  },
  {
   "cell_type": "code",
   "execution_count": 54,
   "metadata": {},
   "outputs": [
    {
     "name": "stdout",
     "output_type": "stream",
     "text": [
      "Random Array:\n",
      " [0.08540457 0.2497113  0.91178586 0.79870521 0.1381508  0.48127229\n",
      " 0.61506697 0.99141859 0.57394095 0.32626861]\n",
      "After replace values:\n",
      " [0.08540457 0.2497113  0.91178586 0.79870521 0.1381508  0.48127229\n",
      " 0.61506697 0.         0.57394095 0.32626861]\n"
     ]
    }
   ],
   "source": [
    "a = np.random.random(10)\n",
    "print(\"Random Array:\\n\",a)\n",
    "a[a.argmax()]=0\n",
    "print(\"After replace values:\\n\",a)\n"
   ]
  },
  {
   "cell_type": "markdown",
   "metadata": {},
   "source": [
    "# 9. How to print all the values of an array?"
   ]
  },
  {
   "cell_type": "code",
   "execution_count": 55,
   "metadata": {},
   "outputs": [
    {
     "name": "stdout",
     "output_type": "stream",
     "text": [
      "[ 0  1  2  3  4  5  6  7  8  9 10 11 12 13 14 15 16 17 18 19 20 21 22 23\n",
      " 24 25 26 27 28 29 30 31 32 33 34 35 36 37 38 39 40 41 42 43 44 45 46 47\n",
      " 48 49 50 51 52 53 54 55 56 57 58 59 60 61 62 63 64 65 66 67 68 69 70 71\n",
      " 72 73 74 75 76 77 78 79 80 81 82 83 84 85 86 87 88 89 90 91 92 93 94 95\n",
      " 96 97 98 99]\n"
     ]
    }
   ],
   "source": [
    "output = np.arange(100)\n",
    "print(output)"
   ]
  },
  {
   "cell_type": "markdown",
   "metadata": {},
   "source": [
    "# 10.Subtract the mean of each row of a matrix"
   ]
  },
  {
   "cell_type": "code",
   "execution_count": 62,
   "metadata": {},
   "outputs": [
    {
     "name": "stdout",
     "output_type": "stream",
     "text": [
      "Matrix:\n",
      " [[25 49 60 68 19]\n",
      " [29 44 81  2 57]]\n",
      "Subtract the mean values:\n",
      " [[-19.2   4.8  15.8  23.8 -25.2]\n",
      " [-13.6   1.4  38.4 -40.6  14.4]]\n"
     ]
    }
   ],
   "source": [
    "a = np.random.randint(0,100,10).reshape([2,5])\n",
    "print(\"Matrix:\\n\",a)\n",
    "b = a-a.mean(axis=1,keepdims=True)\n",
    "print(\"Subtract the mean values:\\n\",b)"
   ]
  },
  {
   "cell_type": "markdown",
   "metadata": {},
   "source": [
    "# 11.Consider a given vector, how to add 1 to each element indexed by a second vector (be careful with repeated indices)? "
   ]
  },
  {
   "cell_type": "code",
   "execution_count": 63,
   "metadata": {},
   "outputs": [
    {
     "name": "stdout",
     "output_type": "stream",
     "text": [
      "Vectors: [1. 1. 1. 1. 1.]\n",
      "Index Vector: [1 2 3 4 0 0 3 3 4 0]\n",
      "After vector [4. 2. 2. 4. 3.]\n"
     ]
    }
   ],
   "source": [
    "a = np.ones(5)\n",
    "print(\"Vectors:\",a)\n",
    "b = np.random.randint(0,len(a),10)\n",
    "print(\"Index Vector:\",b)\n",
    "a += np.bincount(b, minlength=len(a))\n",
    "print(\"After vector\",a)"
   ]
  },
  {
   "cell_type": "markdown",
   "metadata": {},
   "source": [
    "# 12.How to get the diagonal of a dot product?"
   ]
  },
  {
   "cell_type": "code",
   "execution_count": 67,
   "metadata": {},
   "outputs": [
    {
     "name": "stdout",
     "output_type": "stream",
     "text": [
      "[[0 1 2]\n",
      " [3 4 5]\n",
      " [6 7 8]]\n",
      "[[0 1 2]\n",
      " [3 4 5]\n",
      " [6 7 8]]\n",
      "[ 15  54 111]\n"
     ]
    }
   ],
   "source": [
    "a = np.arange(9).reshape(3,3)\n",
    "print(a)\n",
    "b = np.arange(9).reshape(3,3)\n",
    "print(b)\n",
    "\n",
    "diag = np.diag(a.dot(b))\n",
    "print(diag)"
   ]
  },
  {
   "cell_type": "markdown",
   "metadata": {},
   "source": [
    "# 13.How to find the most frequent value in an array?"
   ]
  },
  {
   "cell_type": "code",
   "execution_count": 69,
   "metadata": {},
   "outputs": [
    {
     "name": "stdout",
     "output_type": "stream",
     "text": [
      "Arrat:\n",
      " [3 7 3 8 8 4 8 1 1 7 9 0 5 7 0 7 6 9 0 8]\n",
      "Most frequent values:\n",
      " 7\n"
     ]
    }
   ],
   "source": [
    "a = np.random.randint(0,10,20)\n",
    "print(\"Arrat:\\n\",a)\n",
    "print(\"Most frequent values:\\n\",np.bincount(a).argmax())"
   ]
  },
  {
   "cell_type": "markdown",
   "metadata": {},
   "source": [
    "# 14.How to get the n largest values of an array"
   ]
  },
  {
   "cell_type": "code",
   "execution_count": 72,
   "metadata": {},
   "outputs": [
    {
     "name": "stdout",
     "output_type": "stream",
     "text": [
      "[  1   2 100 120 130   5   6   7   8 210]\n",
      "largest values of array values: [210]\n"
     ]
    }
   ],
   "source": [
    "a = np.array([1,2,100,120,130,5,6,7,8,210])\n",
    "print(a)\n",
    "n = 1\n",
    "b = a[np.argsort(a)[-n:]]\n",
    "print(\"largest values of array values:\",b)"
   ]
  },
  {
   "cell_type": "markdown",
   "metadata": {},
   "source": [
    "# 15.How to create a record array from a regular array?"
   ]
  },
  {
   "cell_type": "code",
   "execution_count": 73,
   "metadata": {},
   "outputs": [
    {
     "name": "stdout",
     "output_type": "stream",
     "text": [
      "('Cricket', 'karnataga', 3)\n",
      "('Football', 'kerala', 2)\n",
      "('Kabadi', 'Tamilnadu', 1)\n"
     ]
    }
   ],
   "source": [
    "a = np.array(['Cricket','Football','Kabadi'])\n",
    "b = np.array(['karnataga','kerala','Tamilnadu'])\n",
    "c = np.array([3,2,1])\n",
    "records = np.core.records.fromarrays([a,b,c])\n",
    "print(records[0])\n",
    "print(records[1])\n",
    "print(records[2])"
   ]
  }
 ],
 "metadata": {
  "kernelspec": {
   "display_name": "Python 3",
   "language": "python",
   "name": "python3"
  },
  "language_info": {
   "codemirror_mode": {
    "name": "ipython",
    "version": 3
   },
   "file_extension": ".py",
   "mimetype": "text/x-python",
   "name": "python",
   "nbconvert_exporter": "python",
   "pygments_lexer": "ipython3",
   "version": "3.7.6"
  }
 },
 "nbformat": 4,
 "nbformat_minor": 2
}
