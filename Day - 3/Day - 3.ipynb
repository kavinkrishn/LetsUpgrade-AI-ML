{
 "cells": [
  {
   "cell_type": "markdown",
   "metadata": {},
   "source": [
    "# Assignment -1 "
   ]
  },
  {
   "cell_type": "markdown",
   "metadata": {},
   "source": [
    "## Question 1 :\n",
    "## Write a program to subtract two complex numbers in Python. "
   ]
  },
  {
   "cell_type": "code",
   "execution_count": 2,
   "metadata": {},
   "outputs": [
    {
     "name": "stdout",
     "output_type": "stream",
     "text": [
      "a: (20+10j) and b: (10+5j)\n",
      "Subtract Complex numbers a-b: (10+5j)\n"
     ]
    }
   ],
   "source": [
    "a = 20+10j\n",
    "b = 10+5j\n",
    "print ('a: {} and b: {}'.format(a,b))\n",
    "print(\"Subtract Complex numbers a-b:\",a-b)"
   ]
  },
  {
   "cell_type": "markdown",
   "metadata": {},
   "source": [
    "## Question 2 : \n",
    "## Write a program to find the fourth root of a number."
   ]
  },
  {
   "cell_type": "code",
   "execution_count": 4,
   "metadata": {},
   "outputs": [
    {
     "name": "stdout",
     "output_type": "stream",
     "text": [
      "Fourth Root of a Number: 2.0\n"
     ]
    }
   ],
   "source": [
    "a = 16\n",
    "root = 4\n",
    "res = a**(1/root)\n",
    "print(\"Fourth Root of a Number:\",res)"
   ]
  },
  {
   "cell_type": "markdown",
   "metadata": {},
   "source": [
    "## Question 3: \n",
    "## Write a program to swap two numbers in Python with the help of a temporary variable."
   ]
  },
  {
   "cell_type": "code",
   "execution_count": 9,
   "metadata": {},
   "outputs": [
    {
     "name": "stdout",
     "output_type": "stream",
     "text": [
      "The Give number a=5 and b=10 \n",
      "The Swap number a=10 and b=5 \n"
     ]
    }
   ],
   "source": [
    "a = 5\n",
    "b = 10\n",
    "print ( \"The Give number a={} and b={} \".format(a,b))\n",
    "temp = a\n",
    "a = b\n",
    "b = temp\n",
    "print ( \"The Swap number a={} and b={} \".format(a,b))\n"
   ]
  },
  {
   "cell_type": "markdown",
   "metadata": {},
   "source": [
    "## Question 4: \n",
    "## Write a program to swap two numbers in Python without using a temporary variable. "
   ]
  },
  {
   "cell_type": "code",
   "execution_count": 10,
   "metadata": {},
   "outputs": [
    {
     "name": "stdout",
     "output_type": "stream",
     "text": [
      "The Give number a=25 and b=50 \n",
      "The Swap number a=50 and b=25 \n"
     ]
    }
   ],
   "source": [
    "a = 25\n",
    "b = 50\n",
    "print ( \"The Give number a={} and b={} \".format(a,b))\n",
    "a,b = b,a\n",
    "print ( \"The Swap number a={} and b={} \".format(a,b))\n"
   ]
  },
  {
   "cell_type": "markdown",
   "metadata": {},
   "source": [
    "## Question 5: \n",
    "## Write a program to convert fahrenheit to kelvin and celsius both."
   ]
  },
  {
   "cell_type": "code",
   "execution_count": 14,
   "metadata": {},
   "outputs": [
    {
     "name": "stdout",
     "output_type": "stream",
     "text": [
      "fahrenheit to kelvin 310.77777777777777\n",
      "fahrenheit to celsius 37.77777777777778\n"
     ]
    }
   ],
   "source": [
    "F = 100\n",
    "C = ((F-32)* (5/9))\n",
    "K = ((5/9)*(F - 32) + 273)\n",
    "print (\"fahrenheit to kelvin\", K)\n",
    "print (\"fahrenheit to celsius\", C)"
   ]
  },
  {
   "cell_type": "markdown",
   "metadata": {},
   "source": [
    "## Question 6: \n",
    "## Write a program to demonstrate all the available data types in Python. Hint: Use type() function"
   ]
  },
  {
   "cell_type": "code",
   "execution_count": 17,
   "metadata": {},
   "outputs": [
    {
     "name": "stdout",
     "output_type": "stream",
     "text": [
      "a, is  <class 'int'>\n",
      "b, is  <class 'float'>\n",
      "c, is  <class 'complex'>\n",
      "d, is  <class 'list'>\n",
      "e, is  <class 'set'>\n",
      "f, is  <class 'tuple'>\n",
      "g, is  <class 'str'>\n"
     ]
    }
   ],
   "source": [
    "a = 5\n",
    "print(\"a, is \",type(a))\n",
    "\n",
    "b = 5.0\n",
    "print(\"b, is \",type(b))\n",
    "\n",
    "c = 5+10j\n",
    "print(\"c, is \",type(c))\n",
    "\n",
    "d = [1,2,3,4,5]\n",
    "print(\"d, is \",type(d))\n",
    "\n",
    "e = {1,2,3,4,5}\n",
    "print(\"e, is \",type(e))\n",
    "\n",
    "f = (1,2,3,4,5)\n",
    "print(\"f, is \",type(f))\n",
    "\n",
    "g = (\"jalaj\")\n",
    "print(\"g, is \",type(g))"
   ]
  },
  {
   "cell_type": "markdown",
   "metadata": {},
   "source": [
    "## Question 7: \n",
    "## Create a Markdown cell in jupyter and list the steps discussed in the session by Dr. Darshan Ingle sir to create Github profile and upload Githubs Assignment link."
   ]
  },
  {
   "cell_type": "markdown",
   "metadata": {},
   "source": [
    "1. Go to www.GitHub.com\n",
    "2. Signup to create your Profile\n",
    "3. Login to github accout.\n",
    "4. Create a repository and name __LetsUpgrade-AI-ML__.\n",
    "\n",
    "5. Click on upload existing file.\n",
    "6. Drag and drop the python file over there.\n",
    "7. click on commit changes and your file will be uploaded.\n",
    "8. Then Copy the URL name.\n",
    "9. Go to letsupgrade site to fill forms and paste github link "
   ]
  }
 ],
 "metadata": {
  "kernelspec": {
   "display_name": "Python 3",
   "language": "python",
   "name": "python3"
  },
  "language_info": {
   "codemirror_mode": {
    "name": "ipython",
    "version": 3
   },
   "file_extension": ".py",
   "mimetype": "text/x-python",
   "name": "python",
   "nbconvert_exporter": "python",
   "pygments_lexer": "ipython3",
   "version": "3.7.6"
  }
 },
 "nbformat": 4,
 "nbformat_minor": 4
}
