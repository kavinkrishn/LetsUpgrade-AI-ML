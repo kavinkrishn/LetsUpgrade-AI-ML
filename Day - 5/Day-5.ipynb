{
 "cells": [
  {
   "cell_type": "markdown",
   "metadata": {},
   "source": [
    "# Assignment - 3 (day-5)\n",
    "## Question 1 : \n",
    "## Write a Python program to find the first 20 non-even prime natural numbers."
   ]
  },
  {
   "cell_type": "code",
   "execution_count": 24,
   "metadata": {},
   "outputs": [
    {
     "name": "stdout",
     "output_type": "stream",
     "text": [
      "The first 20 non-even prime natural numbers [3, 5, 7, 11, 13, 17, 19, 23, 29, 31, 37, 41, 43, 47, 53, 59, 61, 67, 71, 73]\n"
     ]
    }
   ],
   "source": [
    "prime=[]\n",
    "for num in range(1,100):\n",
    "    if (num > 2 and len(prime) < 20):\n",
    "        for i in range(2,num):\n",
    "            if (num%i==0):\n",
    "                break\n",
    "        else:\n",
    "            prime.append(num)\n",
    "print(\"The first 20 non-even prime natural numbers\",prime)"
   ]
  },
  {
   "cell_type": "markdown",
   "metadata": {},
   "source": [
    "## Question 2 :\n",
    "## Write a Python program to implement 15 functions of string."
   ]
  },
  {
   "cell_type": "code",
   "execution_count": 49,
   "metadata": {},
   "outputs": [
    {
     "name": "stdout",
     "output_type": "stream",
     "text": [
      "HELLO WORLD\n",
      "hello world\n",
      "Hello World\n",
      "Hi World\n",
      "False\n",
      "False\n",
      "False\n",
      "False\n",
      "True\n",
      "2\n",
      "6\n",
      "2\n",
      "11\n",
      "['Hello World']\n",
      "****Hello World*****\n"
     ]
    }
   ],
   "source": [
    "str = \"Hello World\"\n",
    "# 1.Upper Case\n",
    "print(str.upper())\n",
    "# 2.lower Case\n",
    "print(str.lower())\n",
    "# 3.titile \n",
    "print(str.title())\n",
    "# 4.replace\n",
    "print(str.replace(\"Hello\",\"Hi\"))\n",
    "# 5.check char upper case\n",
    "print(str.isupper())\n",
    "# 6.check char lower case\n",
    "print(str.islower())\n",
    "# 7.check char is alpha\n",
    "print(str.isalpha())\n",
    "# 8.check char is num\n",
    "print(str.isalnum())\n",
    "# 9.check ending char \n",
    "print(str.endswith(\"d\"))\n",
    "# 10.count the string in particular char\n",
    "print(str.count(\"o\"))\n",
    "# 11.find the char index\n",
    "print(str.find(\"W\"))\n",
    "# 12.find the index no\n",
    "print(str.index(\"l\"))\n",
    "# 13.check the length of char\n",
    "print(len(str))\n",
    "# 14.Prints the values to a stream\n",
    "print(str.splitlines())\n",
    "# 15.Center of string\n",
    "print(str.center(20,'*'))"
   ]
  },
  {
   "cell_type": "markdown",
   "metadata": {},
   "source": [
    "## Question 3: \n",
    "## Write a Python program to check if the given string is a Palindrome or Anagram or None of them. Display the message accordingly to the user."
   ]
  },
  {
   "cell_type": "code",
   "execution_count": 35,
   "metadata": {},
   "outputs": [],
   "source": [
    "def palindrome(str1):\n",
    "    str1 = str1.lower()\n",
    "    if str1 == str1[::-1]:\n",
    "        print (str1,\"is palindrome\")\n",
    "    else:\n",
    "        print(str1,\"not palindrom\")\n",
    "def anagar(str1,str2):\n",
    "    str1 = str1.lower()\n",
    "    str2 = str2.lower()\n",
    "    if (sorted(str1)==sorted(str2)):\n",
    "        return True\n",
    "    return False\n",
    "def palin_anagar():\n",
    "    str1 = input(\"Enter the First String:\")\n",
    "    palindrome(str1)\n",
    "        \n",
    "    str2 = input(\"Enter the second String:\")\n",
    "    if anagar(str1,str2):\n",
    "        print(str1,\"and\",str2,\"are anagram\")\n",
    "        \n",
    "    else:\n",
    "        print(\"not Anagram and plaindrome\")  "
   ]
  },
  {
   "cell_type": "code",
   "execution_count": 39,
   "metadata": {},
   "outputs": [
    {
     "name": "stdout",
     "output_type": "stream",
     "text": [
      "case 1:\n",
      "Enter the First String:malayalam\n",
      "malayalam is palindrome\n",
      "Enter the second String:lamyalama\n",
      "malayalam and lamyalama are anagram\n",
      "case 2:\n",
      "Enter the First String:hello\n",
      "hello not palindrom\n",
      "Enter the second String:world\n",
      "not Anagram and plaindrome\n"
     ]
    }
   ],
   "source": [
    "print(\"case 1:\")\n",
    "palin_anagar()\n",
    "print(\"case 2:\")\n",
    "palin_anagar()"
   ]
  },
  {
   "cell_type": "markdown",
   "metadata": {},
   "source": [
    "## Question 4: \n",
    "## Write a Python's user defined function that removes all the additional characters from the string and converts it finally to lower case using built-in lower(). eg: If the string is \"Dr. Darshan Ingle @AI-ML Trainer\", then the output be \"drdarshaningleaimltrainer\""
   ]
  },
  {
   "cell_type": "code",
   "execution_count": 42,
   "metadata": {},
   "outputs": [
    {
     "name": "stdout",
     "output_type": "stream",
     "text": [
      "Enter a string: Dr. Darshan Ingle @AI-ML Trainer\n",
      "drdarshaningleaimltrainer\n"
     ]
    }
   ],
   "source": [
    "def printstr(mystr):\n",
    "    for i in mystr:\n",
    "        if not(i.isalpha()):\n",
    "            mystr = mystr.replace(i,'')\n",
    "            mystr = mystr.lower()\n",
    "    print(mystr)\n",
    "    \n",
    "string = printstr (input(\"Enter a string: \"))"
   ]
  },
  {
   "cell_type": "code",
   "execution_count": null,
   "metadata": {},
   "outputs": [],
   "source": []
  }
 ],
 "metadata": {
  "kernelspec": {
   "display_name": "Python 3",
   "language": "python",
   "name": "python3"
  },
  "language_info": {
   "codemirror_mode": {
    "name": "ipython",
    "version": 3
   },
   "file_extension": ".py",
   "mimetype": "text/x-python",
   "name": "python",
   "nbconvert_exporter": "python",
   "pygments_lexer": "ipython3",
   "version": "3.7.6"
  }
 },
 "nbformat": 4,
 "nbformat_minor": 4
}
