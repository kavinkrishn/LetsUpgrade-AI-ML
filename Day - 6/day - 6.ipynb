{
 "cells": [
  {
   "cell_type": "markdown",
   "metadata": {},
   "source": [
    "# Assignment - 4 (day-6)"
   ]
  },
  {
   "cell_type": "markdown",
   "metadata": {},
   "source": [
    "## Question 1:\n",
    "## Assuming that we have some email addresses in the \"username@companyname.com\" format, please write program to print the company name of a given email address. Both user names and company names are composed of letters only.\n",
    "## Input Format: The first line of the input contains an email address.\n",
    "## Output Format: Print the company name in single line.\n",
    "## Example;\n",
    "## Input: john@google.com\n",
    "## Output: google\n"
   ]
  },
  {
   "cell_type": "code",
   "execution_count": 4,
   "metadata": {},
   "outputs": [
    {
     "name": "stdout",
     "output_type": "stream",
     "text": [
      "Enter your Mail Address:kavinkrishn@gmail.com\n",
      "Company Name is: gmail\n"
     ]
    }
   ],
   "source": [
    "import re\n",
    "\n",
    "def email(address):\n",
    "    emp_name = address.rsplit('@',1)[1] # part after @ in mail address\n",
    "    company_name = emp_name.split('.',1)[0] # to split the company name\n",
    "    print(\"Company Name is:\",company_name)\n",
    "add = input(\"Enter your Mail Address:\")\n",
    "email(add)"
   ]
  },
  {
   "cell_type": "markdown",
   "metadata": {},
   "source": [
    "## Question 2:\n",
    "## Write a program that accepts a comma-separated sequence of words as input and prints the words in a comma separated sequence after sorting them alphabetically.\n",
    "## Input Format:The first line of input contains words separated by the comma.\n",
    "## Output Format:Print the sorted words separated by the comma.\n",
    "## Example:\n",
    "## Input: without,hello,bag,world\n",
    "## Output: bag,hello,without,world"
   ]
  },
  {
   "cell_type": "code",
   "execution_count": 13,
   "metadata": {},
   "outputs": [
    {
     "name": "stdout",
     "output_type": "stream",
     "text": [
      "Enter the string by comma separated:without,hello,bag,world\n",
      "After sorting the string: bag,hello,without,world\n"
     ]
    }
   ],
   "source": [
    "string =str(input(\"Enter the string by comma separated:\")) \n",
    "x = string.split(',')\n",
    "x.sort()\n",
    "print (\"After sorting the string:\",\",\".join(x))\n",
    "    "
   ]
  },
  {
   "cell_type": "markdown",
   "metadata": {},
   "source": [
    "## Question 3:\n",
    "## Create your own Jupyter Notebook for Sets"
   ]
  },
  {
   "cell_type": "markdown",
   "metadata": {},
   "source": [
    " set is use to avoid the duplication. { } is set. "
   ]
  },
  {
   "cell_type": "code",
   "execution_count": 16,
   "metadata": {},
   "outputs": [
    {
     "name": "stdout",
     "output_type": "stream",
     "text": [
      "{1, 2, 3, 4, 5, 6, 7, 8}\n"
     ]
    }
   ],
   "source": [
    "set_1 ={1,2,3,4,5,5,6,6,6,7,7,8}\n",
    "print(set_1)"
   ]
  },
  {
   "cell_type": "code",
   "execution_count": 17,
   "metadata": {},
   "outputs": [
    {
     "data": {
      "text/plain": [
       "set"
      ]
     },
     "execution_count": 17,
     "metadata": {},
     "output_type": "execute_result"
    }
   ],
   "source": [
    "type(set_1)"
   ]
  },
  {
   "cell_type": "markdown",
   "metadata": {},
   "source": [
    "## Question 4:\n",
    "## Given a list of n-1 numbers ranging from 1 to n, your task is to find the missing number. There are no duplicates.\n",
    "## Input Format:The first line contains n-1 numbers with each number separated by a space.\n",
    "## Output Format:Print the missing number\n",
    "## Example:\n",
    "## Input:1 2 4 6 3 7 8\n",
    "## Output:5\n",
    "## Explanation:\n",
    "## In the above list of numbers 5 is missing and hence 5 is the input\n"
   ]
  },
  {
   "cell_type": "code",
   "execution_count": 5,
   "metadata": {},
   "outputs": [
    {
     "name": "stdout",
     "output_type": "stream",
     "text": [
      "\n",
      "Enter the numbers separated by space : 1 3 5 7 9\n",
      "2 4 6 8 "
     ]
    }
   ],
   "source": [
    "def find_missing(a): \n",
    "    for x in range(a[0], a[-1]+1):\n",
    "        if x not in a:\n",
    "            print(x,end = \" \")\n",
    "  \n",
    "\n",
    "a = list(map(int,input(\"\\nEnter the numbers separated by space : \").strip().split())) \n",
    "find_missing(a)\n",
    "    "
   ]
  },
  {
   "cell_type": "markdown",
   "metadata": {},
   "source": [
    "## Question 5:\n",
    "## With a given list L, write a program to print this list L after removing all duplicate values with original order reserved.\n",
    "## Example:\n",
    "## If the input list is\n",
    "## 12 24 35 24 88 120 155 88 120 155\n",
    "## Then the output should be\n",
    "## 12 24 35 88 120 155\n",
    "## Explanation:\n",
    "## Third, seventh and ninth element of the list L has been removed because it was already present.\n",
    "## Input Format:\n",
    "## In one line take the elements of the list L with each element separated by a space.\n",
    "## Output Format:\n",
    "## Print the elements of the modified list in one line with each element separated by a space.\n",
    "## Example:\n",
    "## Input: 12 24 35 24\n",
    "## Output:12 24 35"
   ]
  },
  {
   "cell_type": "code",
   "execution_count": 8,
   "metadata": {},
   "outputs": [
    {
     "name": "stdout",
     "output_type": "stream",
     "text": [
      "\n",
      "Enter a list of numbers seperated by a space : 12 24 35 24 88 120 155 88 120 155\n",
      "12 24 35 88 120 155\n"
     ]
    }
   ],
   "source": [
    "a = list(map(int,input(\"\\nEnter a list of numbers seperated by a space : \").strip().split()))\n",
    "\n",
    "output = list(dict.fromkeys(a))\n",
    "print(*output)"
   ]
  }
 ],
 "metadata": {
  "kernelspec": {
   "display_name": "Python 3",
   "language": "python",
   "name": "python3"
  },
  "language_info": {
   "codemirror_mode": {
    "name": "ipython",
    "version": 3
   },
   "file_extension": ".py",
   "mimetype": "text/x-python",
   "name": "python",
   "nbconvert_exporter": "python",
   "pygments_lexer": "ipython3",
   "version": "3.7.6"
  }
 },
 "nbformat": 4,
 "nbformat_minor": 4
}
