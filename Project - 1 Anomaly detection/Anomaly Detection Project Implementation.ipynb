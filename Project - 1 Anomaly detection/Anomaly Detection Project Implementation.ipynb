{
 "cells": [
  {
   "cell_type": "markdown",
   "metadata": {},
   "source": [
    "## Anomaly Detection Project Implementation"
   ]
  },
  {
   "cell_type": "code",
   "execution_count": 1,
   "metadata": {},
   "outputs": [],
   "source": [
    "import os\n",
    "import sys\n",
    "import numpy as np\n",
    "import pandas as pd\n",
    "\n",
    "from sklearn.model_selection import train_test_split\n",
    "from scipy.io import loadmat   # mat file reading"
   ]
  },
  {
   "cell_type": "markdown",
   "metadata": {},
   "source": [
    "## import pyod packages and the methods"
   ]
  },
  {
   "cell_type": "code",
   "execution_count": 2,
   "metadata": {},
   "outputs": [
    {
     "name": "stderr",
     "output_type": "stream",
     "text": [
      "C:\\ProgramData\\Anaconda3\\lib\\site-packages\\sklearn\\utils\\deprecation.py:143: FutureWarning: The sklearn.utils.testing module is  deprecated in version 0.22 and will be removed in version 0.24. The corresponding classes / functions should instead be imported from sklearn.utils. Anything that cannot be imported from sklearn.utils is now part of the private API.\n",
      "  warnings.warn(message, FutureWarning)\n"
     ]
    }
   ],
   "source": [
    "from pyod.models.pca import PCA\n",
    "from pyod.models.mcd import MCD\n",
    "from pyod.models.ocsvm import OCSVM\n",
    "from pyod.models.lof import LOF\n",
    "from pyod.models.cblof import CBLOF\n",
    "from pyod.models.knn import KNN\n",
    "from pyod.models.hbos import HBOS\n",
    "from pyod.models.abod import ABOD\n",
    "from pyod.models.iforest import IForest\n",
    "from pyod.models.feature_bagging import FeatureBagging"
   ]
  },
  {
   "cell_type": "markdown",
   "metadata": {},
   "source": [
    "## Import Metrics Packages"
   ]
  },
  {
   "cell_type": "code",
   "execution_count": 3,
   "metadata": {},
   "outputs": [],
   "source": [
    "from pyod.utils.utility import standardizer\n",
    "from pyod.utils.utility import precision_n_scores  # measure to identify perfomance of the model\n",
    "from sklearn.metrics import roc_auc_score  "
   ]
  },
  {
   "cell_type": "markdown",
   "metadata": {},
   "source": [
    "## load and define data file read X and Y"
   ]
  },
  {
   "cell_type": "code",
   "execution_count": 17,
   "metadata": {},
   "outputs": [],
   "source": [
    "## Create list\n",
    "mat_file_list = ['arrhythmia.mat','cardio.mat','glass.mat','ionosphere.mat','letter.mat','lympho.mat','mnist.mat','musk.mat','optdigits.mat','pendigits.mat','pima.mat','satimage-2.mat','shuttle.mat','vertebral.mat','vowels.mat','wbc.mat']"
   ]
  },
  {
   "cell_type": "code",
   "execution_count": 18,
   "metadata": {},
   "outputs": [
    {
     "data": {
      "text/plain": [
       "['arrhythmia.mat',\n",
       " 'cardio.mat',\n",
       " 'glass.mat',\n",
       " 'ionosphere.mat',\n",
       " 'letter.mat',\n",
       " 'lympho.mat',\n",
       " 'mnist.mat',\n",
       " 'musk.mat',\n",
       " 'optdigits.mat',\n",
       " 'pendigits.mat',\n",
       " 'pima.mat',\n",
       " 'satimage-2.mat',\n",
       " 'shuttle.mat',\n",
       " 'vertebral.mat',\n",
       " 'vowels.mat',\n",
       " 'wbc.mat']"
      ]
     },
     "execution_count": 18,
     "metadata": {},
     "output_type": "execute_result"
    }
   ],
   "source": [
    "mat_file_list"
   ]
  },
  {
   "cell_type": "code",
   "execution_count": 19,
   "metadata": {},
   "outputs": [],
   "source": [
    "data = loadmat(\"D://ML//dataset//Anamoly_detec_data/cardio.mat\")  #  load dataset mat file"
   ]
  },
  {
   "cell_type": "code",
   "execution_count": 20,
   "metadata": {},
   "outputs": [
    {
     "data": {
      "text/plain": [
       "{'__header__': b'MATLAB 5.0 MAT-file, written by Octave 3.8.0, 2014-12-18 10:48:09 UTC',\n",
       " '__version__': '1.0',\n",
       " '__globals__': [],\n",
       " 'X': array([[ 0.00491231,  0.69319077, -0.20364049, ...,  0.23149795,\n",
       "         -0.28978574, -0.49329397],\n",
       "        [ 0.11072935, -0.07990259, -0.20364049, ...,  0.09356344,\n",
       "         -0.25638541, -0.49329397],\n",
       "        [ 0.21654639, -0.27244466, -0.20364049, ...,  0.02459619,\n",
       "         -0.25638541,  1.14001753],\n",
       "        ...,\n",
       "        [-0.41835583, -0.91998844, -0.16463485, ..., -1.49268341,\n",
       "          0.24461959, -0.49329397],\n",
       "        [-0.41835583, -0.91998844, -0.15093411, ..., -1.42371616,\n",
       "          0.14441859, -0.49329397],\n",
       "        [-0.41835583, -0.91998844, -0.20364049, ..., -1.28578165,\n",
       "          3.58465295, -0.49329397]]),\n",
       " 'y': array([[0.],\n",
       "        [0.],\n",
       "        [0.],\n",
       "        ...,\n",
       "        [1.],\n",
       "        [1.],\n",
       "        [1.]])}"
      ]
     },
     "execution_count": 20,
     "metadata": {},
     "output_type": "execute_result"
    }
   ],
   "source": [
    "data"
   ]
  },
  {
   "cell_type": "code",
   "execution_count": 21,
   "metadata": {},
   "outputs": [
    {
     "data": {
      "text/plain": [
       "5"
      ]
     },
     "execution_count": 21,
     "metadata": {},
     "output_type": "execute_result"
    }
   ],
   "source": [
    "len(data)"
   ]
  },
  {
   "cell_type": "code",
   "execution_count": 22,
   "metadata": {},
   "outputs": [
    {
     "data": {
      "text/plain": [
       "dict_keys(['__header__', '__version__', '__globals__', 'X', 'y'])"
      ]
     },
     "execution_count": 22,
     "metadata": {},
     "output_type": "execute_result"
    }
   ],
   "source": [
    "data.keys()   #  key name "
   ]
  },
  {
   "cell_type": "code",
   "execution_count": 23,
   "metadata": {},
   "outputs": [
    {
     "data": {
      "text/plain": [
       "dict_values([b'MATLAB 5.0 MAT-file, written by Octave 3.8.0, 2014-12-18 10:48:09 UTC', '1.0', [], array([[ 0.00491231,  0.69319077, -0.20364049, ...,  0.23149795,\n",
       "        -0.28978574, -0.49329397],\n",
       "       [ 0.11072935, -0.07990259, -0.20364049, ...,  0.09356344,\n",
       "        -0.25638541, -0.49329397],\n",
       "       [ 0.21654639, -0.27244466, -0.20364049, ...,  0.02459619,\n",
       "        -0.25638541,  1.14001753],\n",
       "       ...,\n",
       "       [-0.41835583, -0.91998844, -0.16463485, ..., -1.49268341,\n",
       "         0.24461959, -0.49329397],\n",
       "       [-0.41835583, -0.91998844, -0.15093411, ..., -1.42371616,\n",
       "         0.14441859, -0.49329397],\n",
       "       [-0.41835583, -0.91998844, -0.20364049, ..., -1.28578165,\n",
       "         3.58465295, -0.49329397]]), array([[0.],\n",
       "       [0.],\n",
       "       [0.],\n",
       "       ...,\n",
       "       [1.],\n",
       "       [1.],\n",
       "       [1.]])])"
      ]
     },
     "execution_count": 23,
     "metadata": {},
     "output_type": "execute_result"
    }
   ],
   "source": [
    "data.values()  # values of data"
   ]
  },
  {
   "cell_type": "code",
   "execution_count": 24,
   "metadata": {},
   "outputs": [
    {
     "data": {
      "text/plain": [
       "(numpy.ndarray, (1831, 21))"
      ]
     },
     "execution_count": 24,
     "metadata": {},
     "output_type": "execute_result"
    }
   ],
   "source": [
    "type(data['X']),data['X'].shape   # shape of the independent feature"
   ]
  },
  {
   "cell_type": "code",
   "execution_count": 25,
   "metadata": {},
   "outputs": [
    {
     "data": {
      "text/plain": [
       "(numpy.ndarray, (1831, 1))"
      ]
     },
     "execution_count": 25,
     "metadata": {},
     "output_type": "execute_result"
    }
   ],
   "source": [
    "type(data['y']),data['y'].shape     # shape of the dependent features"
   ]
  },
  {
   "cell_type": "markdown",
   "metadata": {},
   "source": [
    "## Define nine outliers detection tools to be compared"
   ]
  },
  {
   "cell_type": "code",
   "execution_count": 26,
   "metadata": {},
   "outputs": [],
   "source": [
    "df_columns = ['Data','#Samples','# Dimensions','Outlier Perc','ABOD','CBLOF','FB','HBOS','IForest','KNN','LOF','MCD','OCSVM','PCA']"
   ]
  },
  {
   "cell_type": "code",
   "execution_count": 27,
   "metadata": {},
   "outputs": [
    {
     "data": {
      "text/html": [
       "<div>\n",
       "<style scoped>\n",
       "    .dataframe tbody tr th:only-of-type {\n",
       "        vertical-align: middle;\n",
       "    }\n",
       "\n",
       "    .dataframe tbody tr th {\n",
       "        vertical-align: top;\n",
       "    }\n",
       "\n",
       "    .dataframe thead th {\n",
       "        text-align: right;\n",
       "    }\n",
       "</style>\n",
       "<table border=\"1\" class=\"dataframe\">\n",
       "  <thead>\n",
       "    <tr style=\"text-align: right;\">\n",
       "      <th></th>\n",
       "      <th>Data</th>\n",
       "      <th>#Samples</th>\n",
       "      <th># Dimensions</th>\n",
       "      <th>Outlier Perc</th>\n",
       "      <th>ABOD</th>\n",
       "      <th>CBLOF</th>\n",
       "      <th>FB</th>\n",
       "      <th>HBOS</th>\n",
       "      <th>IForest</th>\n",
       "      <th>KNN</th>\n",
       "      <th>LOF</th>\n",
       "      <th>MCD</th>\n",
       "      <th>OCSVM</th>\n",
       "      <th>PCA</th>\n",
       "    </tr>\n",
       "  </thead>\n",
       "  <tbody>\n",
       "  </tbody>\n",
       "</table>\n",
       "</div>"
      ],
      "text/plain": [
       "Empty DataFrame\n",
       "Columns: [Data, #Samples, # Dimensions, Outlier Perc, ABOD, CBLOF, FB, HBOS, IForest, KNN, LOF, MCD, OCSVM, PCA]\n",
       "Index: []"
      ]
     },
     "execution_count": 27,
     "metadata": {},
     "output_type": "execute_result"
    }
   ],
   "source": [
    "roc_df = pd.DataFrame(columns =df_columns)  # to create  empty dataset based on columns name\n",
    "roc_df"
   ]
  },
  {
   "cell_type": "code",
   "execution_count": 28,
   "metadata": {},
   "outputs": [
    {
     "data": {
      "text/html": [
       "<div>\n",
       "<style scoped>\n",
       "    .dataframe tbody tr th:only-of-type {\n",
       "        vertical-align: middle;\n",
       "    }\n",
       "\n",
       "    .dataframe tbody tr th {\n",
       "        vertical-align: top;\n",
       "    }\n",
       "\n",
       "    .dataframe thead th {\n",
       "        text-align: right;\n",
       "    }\n",
       "</style>\n",
       "<table border=\"1\" class=\"dataframe\">\n",
       "  <thead>\n",
       "    <tr style=\"text-align: right;\">\n",
       "      <th></th>\n",
       "      <th>Data</th>\n",
       "      <th>#Samples</th>\n",
       "      <th># Dimensions</th>\n",
       "      <th>Outlier Perc</th>\n",
       "      <th>ABOD</th>\n",
       "      <th>CBLOF</th>\n",
       "      <th>FB</th>\n",
       "      <th>HBOS</th>\n",
       "      <th>IForest</th>\n",
       "      <th>KNN</th>\n",
       "      <th>LOF</th>\n",
       "      <th>MCD</th>\n",
       "      <th>OCSVM</th>\n",
       "      <th>PCA</th>\n",
       "    </tr>\n",
       "  </thead>\n",
       "  <tbody>\n",
       "  </tbody>\n",
       "</table>\n",
       "</div>"
      ],
      "text/plain": [
       "Empty DataFrame\n",
       "Columns: [Data, #Samples, # Dimensions, Outlier Perc, ABOD, CBLOF, FB, HBOS, IForest, KNN, LOF, MCD, OCSVM, PCA]\n",
       "Index: []"
      ]
     },
     "execution_count": 28,
     "metadata": {},
     "output_type": "execute_result"
    }
   ],
   "source": [
    "prn_df = pd.DataFrame(columns=df_columns)   # precision_n_score measure to identify perfomance of the model\n",
    "prn_df"
   ]
  },
  {
   "cell_type": "code",
   "execution_count": 29,
   "metadata": {},
   "outputs": [
    {
     "data": {
      "text/html": [
       "<div>\n",
       "<style scoped>\n",
       "    .dataframe tbody tr th:only-of-type {\n",
       "        vertical-align: middle;\n",
       "    }\n",
       "\n",
       "    .dataframe tbody tr th {\n",
       "        vertical-align: top;\n",
       "    }\n",
       "\n",
       "    .dataframe thead th {\n",
       "        text-align: right;\n",
       "    }\n",
       "</style>\n",
       "<table border=\"1\" class=\"dataframe\">\n",
       "  <thead>\n",
       "    <tr style=\"text-align: right;\">\n",
       "      <th></th>\n",
       "      <th>Data</th>\n",
       "      <th>#Samples</th>\n",
       "      <th># Dimensions</th>\n",
       "      <th>Outlier Perc</th>\n",
       "      <th>ABOD</th>\n",
       "      <th>CBLOF</th>\n",
       "      <th>FB</th>\n",
       "      <th>HBOS</th>\n",
       "      <th>IForest</th>\n",
       "      <th>KNN</th>\n",
       "      <th>LOF</th>\n",
       "      <th>MCD</th>\n",
       "      <th>OCSVM</th>\n",
       "      <th>PCA</th>\n",
       "    </tr>\n",
       "  </thead>\n",
       "  <tbody>\n",
       "  </tbody>\n",
       "</table>\n",
       "</div>"
      ],
      "text/plain": [
       "Empty DataFrame\n",
       "Columns: [Data, #Samples, # Dimensions, Outlier Perc, ABOD, CBLOF, FB, HBOS, IForest, KNN, LOF, MCD, OCSVM, PCA]\n",
       "Index: []"
      ]
     },
     "execution_count": 29,
     "metadata": {},
     "output_type": "execute_result"
    }
   ],
   "source": [
    "time_df = pd.DataFrame(columns=df_columns)   # time dataframe\n",
    "time_df"
   ]
  },
  {
   "cell_type": "markdown",
   "metadata": {},
   "source": [
    "## Exploraing All mat file"
   ]
  },
  {
   "cell_type": "code",
   "execution_count": 41,
   "metadata": {},
   "outputs": [
    {
     "name": "stdout",
     "output_type": "stream",
     "text": [
      "\n",
      "...Processing arrhythmia.mat ...\n",
      "Angle-based outlier Detector(ABOD) ROC:0.7687,precision @ rank n:0.3571,execution time:0.254s\n",
      "Cluster-based Local Outlier Factore ROC:0.7684,precision @ rank n:0.4643,execution time:0.1629s\n"
     ]
    },
    {
     "name": "stderr",
     "output_type": "stream",
     "text": [
      "C:\\ProgramData\\Anaconda3\\lib\\site-packages\\sklearn\\cluster\\_kmeans.py:974: FutureWarning: 'n_jobs' was deprecated in version 0.23 and will be removed in 0.25.\n",
      "  \" removed in 0.25.\", FutureWarning)\n"
     ]
    },
    {
     "name": "stdout",
     "output_type": "stream",
     "text": [
      "Feature bagging ROC:0.7799,precision @ rank n:0.5,execution time:0.6846s\n",
      "Histogram-based Outliers Detection(HBOS) ROC:0.8511,precision @ rank n:0.5714,execution time:0.1109s\n",
      "Isolation Foreset ROC:0.8478,precision @ rank n:0.5357,execution time:0.6256s\n",
      "K Nearest Neighbours (KNN) ROC:0.782,precision @ rank n:0.5,execution time:0.0982s\n",
      "Local Outliers Factore(LOF) ROC:0.7787,precision @ rank n:0.4643,execution time:0.077s\n"
     ]
    },
    {
     "name": "stderr",
     "output_type": "stream",
     "text": [
      "C:\\ProgramData\\Anaconda3\\lib\\site-packages\\sklearn\\covariance\\_robust_covariance.py:647: UserWarning: The covariance matrix associated to your dataset is not full rank\n",
      "  warnings.warn(\"The covariance matrix associated to your dataset \"\n"
     ]
    },
    {
     "name": "stdout",
     "output_type": "stream",
     "text": [
      "Minimum Covariance Determinant (MCD) ROC:0.8228,precision @ rank n:0.4286,execution time:0.9014s\n",
      "One-class SVM (OCSVM) ROC:0.7986,precision @ rank n:0.5,execution time:0.048s\n",
      "Principal Component Analysis (PCA) ROC:0.8,precision @ rank n:0.5,execution time:0.067s\n",
      "\n",
      "...Processing cardio.mat ...\n",
      "Angle-based outlier Detector(ABOD) ROC:0.5763,precision @ rank n:0.1875,execution time:0.7216s\n",
      "Cluster-based Local Outlier Factore ROC:0.8221,precision @ rank n:0.4844,execution time:0.1929s"
     ]
    },
    {
     "name": "stderr",
     "output_type": "stream",
     "text": [
      "C:\\ProgramData\\Anaconda3\\lib\\site-packages\\sklearn\\cluster\\_kmeans.py:974: FutureWarning: 'n_jobs' was deprecated in version 0.23 and will be removed in 0.25.\n",
      "  \" removed in 0.25.\", FutureWarning)\n"
     ]
    },
    {
     "name": "stdout",
     "output_type": "stream",
     "text": [
      "\n",
      "Feature bagging ROC:0.4879,precision @ rank n:0.1406,execution time:0.9794s\n",
      "Histogram-based Outliers Detection(HBOS) ROC:0.8453,precision @ rank n:0.4688,execution time:0.011s\n",
      "Isolation Foreset ROC:0.9316,precision @ rank n:0.4531,execution time:0.6026s\n",
      "K Nearest Neighbours (KNN) ROC:0.6959,precision @ rank n:0.2812,execution time:0.2049s\n",
      "Local Outliers Factore(LOF) ROC:0.4715,precision @ rank n:0.125,execution time:0.1199s\n"
     ]
    },
    {
     "name": "stderr",
     "output_type": "stream",
     "text": [
      "C:\\ProgramData\\Anaconda3\\lib\\site-packages\\sklearn\\covariance\\_robust_covariance.py:647: UserWarning: The covariance matrix associated to your dataset is not full rank\n",
      "  warnings.warn(\"The covariance matrix associated to your dataset \"\n"
     ]
    },
    {
     "name": "stdout",
     "output_type": "stream",
     "text": [
      "Minimum Covariance Determinant (MCD) ROC:0.8781,precision @ rank n:0.3906,execution time:0.7226s\n",
      "One-class SVM (OCSVM) ROC:0.9507,precision @ rank n:0.5938,execution time:0.0989s\n",
      "Principal Component Analysis (PCA) ROC:0.9638,precision @ rank n:0.6875,execution time:0.005s\n",
      "\n",
      "...Processing glass.mat ...\n",
      "Angle-based outlier Detector(ABOD) ROC:0.7104,precision @ rank n:0.25,execution time:0.0819s\n",
      "Cluster-based Local Outlier Factore ROC:0.8506,precision @ rank n:0.25,execution time:0.0849s\n",
      "Feature bagging ROC:0.7043,precision @ rank n:0.25,execution time:0.047s\n",
      "Histogram-based Outliers Detection(HBOS) ROC:0.6524,precision @ rank n:0.0,execution time:0.005s\n"
     ]
    },
    {
     "name": "stderr",
     "output_type": "stream",
     "text": [
      "C:\\ProgramData\\Anaconda3\\lib\\site-packages\\sklearn\\cluster\\_kmeans.py:974: FutureWarning: 'n_jobs' was deprecated in version 0.23 and will be removed in 0.25.\n",
      "  \" removed in 0.25.\", FutureWarning)\n"
     ]
    },
    {
     "name": "stdout",
     "output_type": "stream",
     "text": [
      "Isolation Foreset ROC:0.7195,precision @ rank n:0.25,execution time:0.4717s\n",
      "K Nearest Neighbours (KNN) ROC:0.7805,precision @ rank n:0.25,execution time:0.014s\n",
      "Local Outliers Factore(LOF) ROC:0.7774,precision @ rank n:0.25,execution time:0.004s\n",
      "Minimum Covariance Determinant (MCD) ROC:0.7165,precision @ rank n:0.0,execution time:0.05s\n",
      "One-class SVM (OCSVM) ROC:0.6189,precision @ rank n:0.25,execution time:0.003s\n",
      "Principal Component Analysis (PCA) ROC:0.622,precision @ rank n:0.25,execution time:0.002s\n",
      "\n",
      "...Processing ionosphere.mat ...\n",
      "Angle-based outlier Detector(ABOD) ROC:0.9004,precision @ rank n:0.8214,execution time:0.1259s\n",
      "Cluster-based Local Outlier Factore ROC:0.8952,precision @ rank n:0.8036,execution time:0.078s\n",
      "Feature bagging ROC:0.8933,precision @ rank n:0.75,execution time:0.0899s\n"
     ]
    },
    {
     "name": "stderr",
     "output_type": "stream",
     "text": [
      "C:\\ProgramData\\Anaconda3\\lib\\site-packages\\sklearn\\cluster\\_kmeans.py:974: FutureWarning: 'n_jobs' was deprecated in version 0.23 and will be removed in 0.25.\n",
      "  \" removed in 0.25.\", FutureWarning)\n"
     ]
    },
    {
     "name": "stdout",
     "output_type": "stream",
     "text": [
      "Histogram-based Outliers Detection(HBOS) ROC:0.5195,precision @ rank n:0.3393,execution time:0.015s\n",
      "Isolation Foreset ROC:0.8294,precision @ rank n:0.6607,execution time:0.4967s\n",
      "K Nearest Neighbours (KNN) ROC:0.9134,precision @ rank n:0.8393,execution time:0.028s\n",
      "Local Outliers Factore(LOF) ROC:0.8989,precision @ rank n:0.75,execution time:0.009s\n",
      "Minimum Covariance Determinant (MCD) ROC:0.9399,precision @ rank n:0.8571,execution time:0.0849s\n",
      "One-class SVM (OCSVM) ROC:0.8372,precision @ rank n:0.7143,execution time:0.007s\n",
      "Principal Component Analysis (PCA) ROC:0.7971,precision @ rank n:0.5893,execution time:0.004s\n",
      "\n",
      "...Processing letter.mat ...\n",
      "Angle-based outlier Detector(ABOD) ROC:0.8465,precision @ rank n:0.275,execution time:0.6406s\n",
      "Cluster-based Local Outlier Factore ROC:0.7423,precision @ rank n:0.175,execution time:0.1309s\n"
     ]
    },
    {
     "name": "stderr",
     "output_type": "stream",
     "text": [
      "C:\\ProgramData\\Anaconda3\\lib\\site-packages\\sklearn\\cluster\\_kmeans.py:974: FutureWarning: 'n_jobs' was deprecated in version 0.23 and will be removed in 0.25.\n",
      "  \" removed in 0.25.\", FutureWarning)\n"
     ]
    },
    {
     "name": "stdout",
     "output_type": "stream",
     "text": [
      "Feature bagging ROC:0.866,precision @ rank n:0.4,execution time:0.9274s\n",
      "Histogram-based Outliers Detection(HBOS) ROC:0.5728,precision @ rank n:0.125,execution time:0.016s\n",
      "Isolation Foreset ROC:0.5836,precision @ rank n:0.05,execution time:0.6176s\n",
      "K Nearest Neighbours (KNN) ROC:0.845,precision @ rank n:0.3,execution time:0.1819s\n",
      "Local Outliers Factore(LOF) ROC:0.8409,precision @ rank n:0.325,execution time:0.1149s\n",
      "Minimum Covariance Determinant (MCD) ROC:0.7499,precision @ rank n:0.075,execution time:1.4251s\n",
      "One-class SVM (OCSVM) ROC:0.5744,precision @ rank n:0.1,execution time:0.0969s\n",
      "Principal Component Analysis (PCA) ROC:0.48,precision @ rank n:0.05,execution time:0.007s\n",
      "\n",
      "...Processing lympho.mat ...\n",
      "Angle-based outlier Detector(ABOD) ROC:0.9382,precision @ rank n:0.4,execution time:0.053s\n"
     ]
    },
    {
     "name": "stderr",
     "output_type": "stream",
     "text": [
      "C:\\ProgramData\\Anaconda3\\lib\\site-packages\\sklearn\\cluster\\_kmeans.py:974: FutureWarning: 'n_jobs' was deprecated in version 0.23 and will be removed in 0.25.\n",
      "  \" removed in 0.25.\", FutureWarning)\n"
     ]
    },
    {
     "name": "stdout",
     "output_type": "stream",
     "text": [
      "Cluster-based Local Outlier Factore ROC:0.9709,precision @ rank n:0.6,execution time:0.075s\n",
      "Feature bagging ROC:0.9673,precision @ rank n:0.6,execution time:0.046s\n",
      "Histogram-based Outliers Detection(HBOS) ROC:0.9964,precision @ rank n:0.8,execution time:0.008s\n",
      "Isolation Foreset ROC:0.9855,precision @ rank n:0.6,execution time:0.5047s\n",
      "K Nearest Neighbours (KNN) ROC:0.9636,precision @ rank n:0.6,execution time:0.01s\n",
      "Local Outliers Factore(LOF) ROC:0.9636,precision @ rank n:0.6,execution time:0.003s\n",
      "Minimum Covariance Determinant (MCD) ROC:0.9164,precision @ rank n:0.6,execution time:0.054s\n",
      "One-class SVM (OCSVM) ROC:0.9636,precision @ rank n:0.6,execution time:0.002s\n",
      "Principal Component Analysis (PCA) ROC:0.9818,precision @ rank n:0.8,execution time:0.002s\n",
      "\n",
      "...Processing mnist.mat ...\n"
     ]
    },
    {
     "name": "stderr",
     "output_type": "stream",
     "text": [
      "C:\\ProgramData\\Anaconda3\\lib\\site-packages\\sklearn\\covariance\\_robust_covariance.py:171: RuntimeWarning: Determinant has increased; this should not happen: log(det) > log(previous_det) (-193.182891520776820 > -343.548589776441531). You may want to try with a higher value of support_fraction (current value: 0.614).\n",
      "  RuntimeWarning)\n",
      "C:\\ProgramData\\Anaconda3\\lib\\site-packages\\sklearn\\covariance\\_robust_covariance.py:171: RuntimeWarning: Determinant has increased; this should not happen: log(det) > log(previous_det) (-374.445549442060269 > -377.667903659146646). You may want to try with a higher value of support_fraction (current value: 0.614).\n",
      "  RuntimeWarning)\n",
      "C:\\ProgramData\\Anaconda3\\lib\\site-packages\\sklearn\\covariance\\_robust_covariance.py:171: RuntimeWarning: Determinant has increased; this should not happen: log(det) > log(previous_det) (-376.348692693502812 > -377.273934180482399). You may want to try with a higher value of support_fraction (current value: 0.614).\n",
      "  RuntimeWarning)\n",
      "C:\\ProgramData\\Anaconda3\\lib\\site-packages\\sklearn\\covariance\\_robust_covariance.py:171: RuntimeWarning: Determinant has increased; this should not happen: log(det) > log(previous_det) (-376.285875882952155 > -379.078703785191522). You may want to try with a higher value of support_fraction (current value: 0.614).\n",
      "  RuntimeWarning)\n"
     ]
    },
    {
     "name": "stdout",
     "output_type": "stream",
     "text": [
      "Angle-based outlier Detector(ABOD) ROC:0.7813,precision @ rank n:0.3562,execution time:9.1993s\n"
     ]
    },
    {
     "name": "stderr",
     "output_type": "stream",
     "text": [
      "C:\\ProgramData\\Anaconda3\\lib\\site-packages\\sklearn\\cluster\\_kmeans.py:974: FutureWarning: 'n_jobs' was deprecated in version 0.23 and will be removed in 0.25.\n",
      "  \" removed in 0.25.\", FutureWarning)\n"
     ]
    },
    {
     "name": "stdout",
     "output_type": "stream",
     "text": [
      "Cluster-based Local Outlier Factore ROC:0.8447,precision @ rank n:0.4007,execution time:0.8665s\n",
      "Feature bagging ROC:0.7259,precision @ rank n:0.3664,execution time:58.6057s\n",
      "Histogram-based Outliers Detection(HBOS) ROC:0.5675,precision @ rank n:0.1199,execution time:0.073s\n",
      "Isolation Foreset ROC:0.7813,precision @ rank n:0.3116,execution time:2.6414s\n",
      "K Nearest Neighbours (KNN) ROC:0.8409,precision @ rank n:0.4144,execution time:8.01s\n",
      "Local Outliers Factore(LOF) ROC:0.7085,precision @ rank n:0.339,execution time:7.4894s\n"
     ]
    },
    {
     "name": "stderr",
     "output_type": "stream",
     "text": [
      "C:\\ProgramData\\Anaconda3\\lib\\site-packages\\sklearn\\covariance\\_robust_covariance.py:647: UserWarning: The covariance matrix associated to your dataset is not full rank\n",
      "  warnings.warn(\"The covariance matrix associated to your dataset \"\n"
     ]
    },
    {
     "name": "stdout",
     "output_type": "stream",
     "text": [
      "Minimum Covariance Determinant (MCD) ROC:0.863,precision @ rank n:0.3973,execution time:4.4662s\n",
      "One-class SVM (OCSVM) ROC:0.8417,precision @ rank n:0.3801,execution time:5.3177s\n",
      "Principal Component Analysis (PCA) ROC:0.8396,precision @ rank n:0.3767,execution time:0.1609s\n",
      "\n",
      "...Processing musk.mat ...\n",
      "Angle-based outlier Detector(ABOD) ROC:0.0809,precision @ rank n:0.0333,execution time:2.9482s\n"
     ]
    },
    {
     "name": "stderr",
     "output_type": "stream",
     "text": [
      "C:\\ProgramData\\Anaconda3\\lib\\site-packages\\sklearn\\cluster\\_kmeans.py:974: FutureWarning: 'n_jobs' was deprecated in version 0.23 and will be removed in 0.25.\n",
      "  \" removed in 0.25.\", FutureWarning)\n"
     ]
    },
    {
     "name": "stdout",
     "output_type": "stream",
     "text": [
      "Cluster-based Local Outlier Factore ROC:1.0,precision @ rank n:1.0,execution time:0.3288s\n",
      "Feature bagging ROC:0.5228,precision @ rank n:0.1667,execution time:15.4045s\n",
      "Histogram-based Outliers Detection(HBOS) ROC:0.9999,precision @ rank n:0.9667,execution time:0.0909s\n",
      "Isolation Foreset ROC:0.9992,precision @ rank n:0.9,execution time:1.8439s\n",
      "K Nearest Neighbours (KNN) ROC:0.7348,precision @ rank n:0.2333,execution time:2.1127s\n",
      "Local Outliers Factore(LOF) ROC:0.5323,precision @ rank n:0.1333,execution time:1.8439s\n",
      "Minimum Covariance Determinant (MCD) ROC:1.0,precision @ rank n:0.9667,execution time:17.2503s\n",
      "One-class SVM (OCSVM) ROC:1.0,precision @ rank n:1.0,execution time:1.1833s\n",
      "Principal Component Analysis (PCA) ROC:1.0,precision @ rank n:1.0,execution time:0.1549s\n",
      "\n",
      "...Processing optdigits.mat ...\n",
      "Angle-based outlier Detector(ABOD) ROC:0.4428,precision @ rank n:0.0161,execution time:3.4269s\n"
     ]
    },
    {
     "name": "stderr",
     "output_type": "stream",
     "text": [
      "C:\\ProgramData\\Anaconda3\\lib\\site-packages\\sklearn\\cluster\\_kmeans.py:974: FutureWarning: 'n_jobs' was deprecated in version 0.23 and will be removed in 0.25.\n",
      "  \" removed in 0.25.\", FutureWarning)\n"
     ]
    },
    {
     "name": "stdout",
     "output_type": "stream",
     "text": [
      "Cluster-based Local Outlier Factore ROC:0.7852,precision @ rank n:0.0,execution time:0.4267s\n",
      "Feature bagging ROC:0.4641,precision @ rank n:0.0484,execution time:16.4868s\n",
      "Histogram-based Outliers Detection(HBOS) ROC:0.8822,precision @ rank n:0.2581,execution time:0.043s\n",
      "Isolation Foreset ROC:0.5442,precision @ rank n:0.0161,execution time:1.4641s\n",
      "K Nearest Neighbours (KNN) ROC:0.3824,precision @ rank n:0.0,execution time:2.2046s\n",
      "Local Outliers Factore(LOF) ROC:0.4584,precision @ rank n:0.0484,execution time:1.8419s\n"
     ]
    },
    {
     "name": "stderr",
     "output_type": "stream",
     "text": [
      "C:\\ProgramData\\Anaconda3\\lib\\site-packages\\sklearn\\covariance\\_robust_covariance.py:647: UserWarning: The covariance matrix associated to your dataset is not full rank\n",
      "  warnings.warn(\"The covariance matrix associated to your dataset \"\n"
     ]
    },
    {
     "name": "stdout",
     "output_type": "stream",
     "text": [
      "Minimum Covariance Determinant (MCD) ROC:0.3486,precision @ rank n:0.0,execution time:2.0427s\n",
      "One-class SVM (OCSVM) ROC:0.4972,precision @ rank n:0.0,execution time:2.0148s\n",
      "Principal Component Analysis (PCA) ROC:0.504,precision @ rank n:0.0,execution time:0.057s\n",
      "\n",
      "...Processing pendigits.mat ...\n",
      "Angle-based outlier Detector(ABOD) ROC:0.7008,precision @ rank n:0.0308,execution time:2.7933s\n"
     ]
    },
    {
     "name": "stderr",
     "output_type": "stream",
     "text": [
      "C:\\ProgramData\\Anaconda3\\lib\\site-packages\\sklearn\\cluster\\_kmeans.py:974: FutureWarning: 'n_jobs' was deprecated in version 0.23 and will be removed in 0.25.\n",
      "  \" removed in 0.25.\", FutureWarning)\n"
     ]
    },
    {
     "name": "stdout",
     "output_type": "stream",
     "text": [
      "Cluster-based Local Outlier Factore ROC:0.9609,precision @ rank n:0.3077,execution time:0.3038s\n",
      "Feature bagging ROC:0.4687,precision @ rank n:0.0462,execution time:6.55s\n",
      "Histogram-based Outliers Detection(HBOS) ROC:0.9294,precision @ rank n:0.2615,execution time:0.016s\n",
      "Isolation Foreset ROC:0.9482,precision @ rank n:0.2615,execution time:1.3122s\n",
      "K Nearest Neighbours (KNN) ROC:0.7602,precision @ rank n:0.0462,execution time:1.0134s\n",
      "Local Outliers Factore(LOF) ROC:0.481,precision @ rank n:0.0462,execution time:1.0444s\n",
      "Minimum Covariance Determinant (MCD) ROC:0.8271,precision @ rank n:0.0615,execution time:3.5368s\n",
      "One-class SVM (OCSVM) ROC:0.93,precision @ rank n:0.2923,execution time:1.4591s\n",
      "Principal Component Analysis (PCA) ROC:0.9332,precision @ rank n:0.3385,execution time:0.011s\n",
      "\n",
      "...Processing pima.mat ...\n",
      "Angle-based outlier Detector(ABOD) ROC:0.6757,precision @ rank n:0.5106,execution time:0.2988s\n",
      "Cluster-based Local Outlier Factore ROC:0.684,precision @ rank n:0.4681,execution time:0.1039s\n"
     ]
    },
    {
     "name": "stderr",
     "output_type": "stream",
     "text": [
      "C:\\ProgramData\\Anaconda3\\lib\\site-packages\\sklearn\\cluster\\_kmeans.py:974: FutureWarning: 'n_jobs' was deprecated in version 0.23 and will be removed in 0.25.\n",
      "  \" removed in 0.25.\", FutureWarning)\n"
     ]
    },
    {
     "name": "stdout",
     "output_type": "stream",
     "text": [
      "Feature bagging ROC:0.6446,precision @ rank n:0.4468,execution time:0.1419s\n",
      "Histogram-based Outliers Detection(HBOS) ROC:0.7169,precision @ rank n:0.5213,execution time:0.004s\n",
      "Isolation Foreset ROC:0.6777,precision @ rank n:0.4787,execution time:0.4937s\n",
      "K Nearest Neighbours (KNN) ROC:0.7252,precision @ rank n:0.5106,execution time:0.052s\n",
      "Local Outliers Factore(LOF) ROC:0.6604,precision @ rank n:0.4787,execution time:0.014s\n",
      "Minimum Covariance Determinant (MCD) ROC:0.7047,precision @ rank n:0.4787,execution time:0.07s\n",
      "One-class SVM (OCSVM) ROC:0.6423,precision @ rank n:0.4574,execution time:0.014s\n",
      "Principal Component Analysis (PCA) ROC:0.6639,precision @ rank n:0.5,execution time:0.003s\n",
      "\n",
      "...Processing satimage-2.mat ...\n",
      "Angle-based outlier Detector(ABOD) ROC:0.7926,precision @ rank n:0.1875,execution time:2.9122s\n"
     ]
    },
    {
     "name": "stderr",
     "output_type": "stream",
     "text": [
      "C:\\ProgramData\\Anaconda3\\lib\\site-packages\\sklearn\\cluster\\_kmeans.py:974: FutureWarning: 'n_jobs' was deprecated in version 0.23 and will be removed in 0.25.\n",
      "  \" removed in 0.25.\", FutureWarning)\n"
     ]
    },
    {
     "name": "stdout",
     "output_type": "stream",
     "text": [
      "Cluster-based Local Outlier Factore ROC:0.999,precision @ rank n:0.9375,execution time:0.3808s\n",
      "Feature bagging ROC:0.4268,precision @ rank n:0.0625,execution time:7.5833s\n",
      "Histogram-based Outliers Detection(HBOS) ROC:0.9831,precision @ rank n:0.7188,execution time:0.025s\n",
      "Isolation Foreset ROC:0.9946,precision @ rank n:0.875,execution time:1.0853s\n",
      "K Nearest Neighbours (KNN) ROC:0.9514,precision @ rank n:0.3438,execution time:1.3997s\n",
      "Local Outliers Factore(LOF) ROC:0.4317,precision @ rank n:0.0625,execution time:0.9884s\n",
      "Minimum Covariance Determinant (MCD) ROC:0.9954,precision @ rank n:0.6562,execution time:3.0181s\n",
      "One-class SVM (OCSVM) ROC:0.9977,precision @ rank n:0.9375,execution time:1.5211s\n",
      "Principal Component Analysis (PCA) ROC:0.9858,precision @ rank n:0.8125,execution time:0.022s\n",
      "\n",
      "...Processing shuttle.mat ...\n",
      "Angle-based outlier Detector(ABOD) ROC:0.6114,precision @ rank n:0.1821,execution time:28.8671s\n"
     ]
    },
    {
     "name": "stderr",
     "output_type": "stream",
     "text": [
      "C:\\ProgramData\\Anaconda3\\lib\\site-packages\\sklearn\\cluster\\_kmeans.py:974: FutureWarning: 'n_jobs' was deprecated in version 0.23 and will be removed in 0.25.\n",
      "  \" removed in 0.25.\", FutureWarning)\n"
     ]
    },
    {
     "name": "stdout",
     "output_type": "stream",
     "text": [
      "Cluster-based Local Outlier Factore ROC:0.5768,precision @ rank n:0.2206,execution time:0.6516s\n",
      "Feature bagging ROC:0.4936,precision @ rank n:0.0755,execution time:81.9802s\n",
      "Histogram-based Outliers Detection(HBOS) ROC:0.9859,precision @ rank n:0.9773,execution time:0.027s\n",
      "Isolation Foreset ROC:0.9966,precision @ rank n:0.9363,execution time:4.1434s\n",
      "K Nearest Neighbours (KNN) ROC:0.6373,precision @ rank n:0.1932,execution time:12.4793s\n",
      "Local Outliers Factore(LOF) ROC:0.5352,precision @ rank n:0.1458,execution time:14.7443s\n"
     ]
    },
    {
     "name": "stderr",
     "output_type": "stream",
     "text": [
      "C:\\ProgramData\\Anaconda3\\lib\\site-packages\\sklearn\\covariance\\_robust_covariance.py:171: RuntimeWarning: Determinant has increased; this should not happen: log(det) > log(previous_det) (-48.770020607191604 > -76.437335834014789). You may want to try with a higher value of support_fraction (current value: 0.503).\n",
      "  RuntimeWarning)\n",
      "C:\\ProgramData\\Anaconda3\\lib\\site-packages\\sklearn\\covariance\\_robust_covariance.py:171: RuntimeWarning: Determinant has increased; this should not happen: log(det) > log(previous_det) (-48.950173702162033 > -75.502315686087186). You may want to try with a higher value of support_fraction (current value: 0.503).\n",
      "  RuntimeWarning)\n",
      "C:\\ProgramData\\Anaconda3\\lib\\site-packages\\sklearn\\covariance\\_robust_covariance.py:171: RuntimeWarning: Determinant has increased; this should not happen: log(det) > log(previous_det) (-50.016513916265303 > -77.410636901819828). You may want to try with a higher value of support_fraction (current value: 0.501).\n",
      "  RuntimeWarning)\n",
      "C:\\ProgramData\\Anaconda3\\lib\\site-packages\\sklearn\\covariance\\_robust_covariance.py:171: RuntimeWarning: Determinant has increased; this should not happen: log(det) > log(previous_det) (-49.449006438035873 > -77.437230876184714). You may want to try with a higher value of support_fraction (current value: 0.501).\n",
      "  RuntimeWarning)\n",
      "C:\\ProgramData\\Anaconda3\\lib\\site-packages\\sklearn\\covariance\\_robust_covariance.py:171: RuntimeWarning: Determinant has increased; this should not happen: log(det) > log(previous_det) (-48.757019321200055 > -76.084372120547300). You may want to try with a higher value of support_fraction (current value: 0.501).\n",
      "  RuntimeWarning)\n",
      "C:\\ProgramData\\Anaconda3\\lib\\site-packages\\sklearn\\covariance\\_robust_covariance.py:171: RuntimeWarning: Determinant has increased; this should not happen: log(det) > log(previous_det) (-48.844463514938845 > -77.999023599997955). You may want to try with a higher value of support_fraction (current value: 0.501).\n",
      "  RuntimeWarning)\n",
      "C:\\ProgramData\\Anaconda3\\lib\\site-packages\\sklearn\\covariance\\_robust_covariance.py:171: RuntimeWarning: Determinant has increased; this should not happen: log(det) > log(previous_det) (-49.365614797253258 > -77.183412862228039). You may want to try with a higher value of support_fraction (current value: 0.501).\n",
      "  RuntimeWarning)\n",
      "C:\\ProgramData\\Anaconda3\\lib\\site-packages\\sklearn\\covariance\\_robust_covariance.py:171: RuntimeWarning: Determinant has increased; this should not happen: log(det) > log(previous_det) (-49.841663427332875 > -76.130660160271447). You may want to try with a higher value of support_fraction (current value: 0.501).\n",
      "  RuntimeWarning)\n",
      "C:\\ProgramData\\Anaconda3\\lib\\site-packages\\sklearn\\covariance\\_robust_covariance.py:171: RuntimeWarning: Determinant has increased; this should not happen: log(det) > log(previous_det) (-49.355752318808932 > -76.915442154582863). You may want to try with a higher value of support_fraction (current value: 0.501).\n",
      "  RuntimeWarning)\n",
      "C:\\ProgramData\\Anaconda3\\lib\\site-packages\\sklearn\\covariance\\_robust_covariance.py:171: RuntimeWarning: Determinant has increased; this should not happen: log(det) > log(previous_det) (-49.942835734238407 > -76.422570327208945). You may want to try with a higher value of support_fraction (current value: 0.501).\n",
      "  RuntimeWarning)\n",
      "C:\\ProgramData\\Anaconda3\\lib\\site-packages\\sklearn\\covariance\\_robust_covariance.py:171: RuntimeWarning: Determinant has increased; this should not happen: log(det) > log(previous_det) (-49.658518773248112 > -76.921486503266493). You may want to try with a higher value of support_fraction (current value: 0.501).\n",
      "  RuntimeWarning)\n",
      "C:\\ProgramData\\Anaconda3\\lib\\site-packages\\sklearn\\covariance\\_robust_covariance.py:171: RuntimeWarning: Determinant has increased; this should not happen: log(det) > log(previous_det) (-50.640243118033865 > -79.704745854346470). You may want to try with a higher value of support_fraction (current value: 0.501).\n",
      "  RuntimeWarning)\n",
      "C:\\ProgramData\\Anaconda3\\lib\\site-packages\\sklearn\\covariance\\_robust_covariance.py:171: RuntimeWarning: Determinant has increased; this should not happen: log(det) > log(previous_det) (-49.728994725081371 > -77.222062707454256). You may want to try with a higher value of support_fraction (current value: 0.501).\n",
      "  RuntimeWarning)\n",
      "C:\\ProgramData\\Anaconda3\\lib\\site-packages\\sklearn\\covariance\\_robust_covariance.py:171: RuntimeWarning: Determinant has increased; this should not happen: log(det) > log(previous_det) (-49.043776600328130 > -75.952909215908107). You may want to try with a higher value of support_fraction (current value: 0.501).\n",
      "  RuntimeWarning)\n",
      "C:\\ProgramData\\Anaconda3\\lib\\site-packages\\sklearn\\covariance\\_robust_covariance.py:171: RuntimeWarning: Determinant has increased; this should not happen: log(det) > log(previous_det) (-49.505298683010068 > -80.570928709891476). You may want to try with a higher value of support_fraction (current value: 0.501).\n",
      "  RuntimeWarning)\n",
      "C:\\ProgramData\\Anaconda3\\lib\\site-packages\\sklearn\\covariance\\_robust_covariance.py:171: RuntimeWarning: Determinant has increased; this should not happen: log(det) > log(previous_det) (-49.082588460889014 > -76.250621090499919). You may want to try with a higher value of support_fraction (current value: 0.501).\n",
      "  RuntimeWarning)\n",
      "C:\\ProgramData\\Anaconda3\\lib\\site-packages\\sklearn\\covariance\\_robust_covariance.py:171: RuntimeWarning: Determinant has increased; this should not happen: log(det) > log(previous_det) (-49.023233518131477 > -76.243909781721499). You may want to try with a higher value of support_fraction (current value: 0.501).\n",
      "  RuntimeWarning)\n",
      "C:\\ProgramData\\Anaconda3\\lib\\site-packages\\sklearn\\covariance\\_robust_covariance.py:171: RuntimeWarning: Determinant has increased; this should not happen: log(det) > log(previous_det) (-48.895160910983506 > -76.478172764861810). You may want to try with a higher value of support_fraction (current value: 0.501).\n",
      "  RuntimeWarning)\n",
      "C:\\ProgramData\\Anaconda3\\lib\\site-packages\\sklearn\\covariance\\_robust_covariance.py:171: RuntimeWarning: Determinant has increased; this should not happen: log(det) > log(previous_det) (-49.008883585168647 > -77.316085147188758). You may want to try with a higher value of support_fraction (current value: 0.501).\n",
      "  RuntimeWarning)\n",
      "C:\\ProgramData\\Anaconda3\\lib\\site-packages\\sklearn\\covariance\\_robust_covariance.py:171: RuntimeWarning: Determinant has increased; this should not happen: log(det) > log(previous_det) (-49.110860070510938 > -78.595999587733758). You may want to try with a higher value of support_fraction (current value: 0.501).\n",
      "  RuntimeWarning)\n",
      "C:\\ProgramData\\Anaconda3\\lib\\site-packages\\sklearn\\covariance\\_robust_covariance.py:171: RuntimeWarning: Determinant has increased; this should not happen: log(det) > log(previous_det) (-48.415305774197890 > -76.695073059760531). You may want to try with a higher value of support_fraction (current value: 0.501).\n",
      "  RuntimeWarning)\n",
      "C:\\ProgramData\\Anaconda3\\lib\\site-packages\\sklearn\\covariance\\_robust_covariance.py:171: RuntimeWarning: Determinant has increased; this should not happen: log(det) > log(previous_det) (-50.326970421105564 > -79.220607428599948). You may want to try with a higher value of support_fraction (current value: 0.501).\n",
      "  RuntimeWarning)\n",
      "C:\\ProgramData\\Anaconda3\\lib\\site-packages\\sklearn\\covariance\\_robust_covariance.py:171: RuntimeWarning: Determinant has increased; this should not happen: log(det) > log(previous_det) (-50.631108329301497 > -77.897422263058999). You may want to try with a higher value of support_fraction (current value: 0.501).\n",
      "  RuntimeWarning)\n",
      "C:\\ProgramData\\Anaconda3\\lib\\site-packages\\sklearn\\covariance\\_robust_covariance.py:171: RuntimeWarning: Determinant has increased; this should not happen: log(det) > log(previous_det) (-47.154231057383107 > -115.007561038496121). You may want to try with a higher value of support_fraction (current value: 0.501).\n",
      "  RuntimeWarning)\n",
      "C:\\ProgramData\\Anaconda3\\lib\\site-packages\\sklearn\\covariance\\_robust_covariance.py:171: RuntimeWarning: Determinant has increased; this should not happen: log(det) > log(previous_det) (-49.472890227341971 > -78.653731239311242). You may want to try with a higher value of support_fraction (current value: 0.501).\n",
      "  RuntimeWarning)\n"
     ]
    },
    {
     "name": "stderr",
     "output_type": "stream",
     "text": [
      "C:\\ProgramData\\Anaconda3\\lib\\site-packages\\sklearn\\covariance\\_robust_covariance.py:171: RuntimeWarning: Determinant has increased; this should not happen: log(det) > log(previous_det) (-49.802243169939736 > -76.325724563520239). You may want to try with a higher value of support_fraction (current value: 0.501).\n",
      "  RuntimeWarning)\n",
      "C:\\ProgramData\\Anaconda3\\lib\\site-packages\\sklearn\\covariance\\_robust_covariance.py:171: RuntimeWarning: Determinant has increased; this should not happen: log(det) > log(previous_det) (-49.363468196243538 > -76.060559820584700). You may want to try with a higher value of support_fraction (current value: 0.501).\n",
      "  RuntimeWarning)\n",
      "C:\\ProgramData\\Anaconda3\\lib\\site-packages\\sklearn\\covariance\\_robust_covariance.py:171: RuntimeWarning: Determinant has increased; this should not happen: log(det) > log(previous_det) (-49.347077044981475 > -77.757203243278170). You may want to try with a higher value of support_fraction (current value: 0.501).\n",
      "  RuntimeWarning)\n",
      "C:\\ProgramData\\Anaconda3\\lib\\site-packages\\sklearn\\covariance\\_robust_covariance.py:171: RuntimeWarning: Determinant has increased; this should not happen: log(det) > log(previous_det) (-49.061014399951794 > -76.465382069615004). You may want to try with a higher value of support_fraction (current value: 0.501).\n",
      "  RuntimeWarning)\n",
      "C:\\ProgramData\\Anaconda3\\lib\\site-packages\\sklearn\\covariance\\_robust_covariance.py:171: RuntimeWarning: Determinant has increased; this should not happen: log(det) > log(previous_det) (-48.612466000780941 > -78.154005057968249). You may want to try with a higher value of support_fraction (current value: 0.501).\n",
      "  RuntimeWarning)\n",
      "C:\\ProgramData\\Anaconda3\\lib\\site-packages\\sklearn\\covariance\\_robust_covariance.py:171: RuntimeWarning: Determinant has increased; this should not happen: log(det) > log(previous_det) (-48.967639766586267 > -78.425288100224989). You may want to try with a higher value of support_fraction (current value: 0.501).\n",
      "  RuntimeWarning)\n",
      "C:\\ProgramData\\Anaconda3\\lib\\site-packages\\sklearn\\covariance\\_robust_covariance.py:171: RuntimeWarning: Determinant has increased; this should not happen: log(det) > log(previous_det) (-49.066024782107903 > -75.811229791827174). You may want to try with a higher value of support_fraction (current value: 0.501).\n",
      "  RuntimeWarning)\n",
      "C:\\ProgramData\\Anaconda3\\lib\\site-packages\\sklearn\\covariance\\_robust_covariance.py:171: RuntimeWarning: Determinant has increased; this should not happen: log(det) > log(previous_det) (-49.869871382118689 > -76.169434711266632). You may want to try with a higher value of support_fraction (current value: 0.501).\n",
      "  RuntimeWarning)\n",
      "C:\\ProgramData\\Anaconda3\\lib\\site-packages\\sklearn\\covariance\\_robust_covariance.py:171: RuntimeWarning: Determinant has increased; this should not happen: log(det) > log(previous_det) (-48.812506269150049 > -76.361370202077481). You may want to try with a higher value of support_fraction (current value: 0.501).\n",
      "  RuntimeWarning)\n",
      "C:\\ProgramData\\Anaconda3\\lib\\site-packages\\sklearn\\covariance\\_robust_covariance.py:171: RuntimeWarning: Determinant has increased; this should not happen: log(det) > log(previous_det) (-48.876714005288989 > -76.600977039907164). You may want to try with a higher value of support_fraction (current value: 0.501).\n",
      "  RuntimeWarning)\n",
      "C:\\ProgramData\\Anaconda3\\lib\\site-packages\\sklearn\\covariance\\_robust_covariance.py:171: RuntimeWarning: Determinant has increased; this should not happen: log(det) > log(previous_det) (-49.152861925907636 > -76.115934415266366). You may want to try with a higher value of support_fraction (current value: 0.501).\n",
      "  RuntimeWarning)\n",
      "C:\\ProgramData\\Anaconda3\\lib\\site-packages\\sklearn\\covariance\\_robust_covariance.py:171: RuntimeWarning: Determinant has increased; this should not happen: log(det) > log(previous_det) (-49.925953366266086 > -76.886188739705318). You may want to try with a higher value of support_fraction (current value: 0.501).\n",
      "  RuntimeWarning)\n",
      "C:\\ProgramData\\Anaconda3\\lib\\site-packages\\sklearn\\covariance\\_robust_covariance.py:171: RuntimeWarning: Determinant has increased; this should not happen: log(det) > log(previous_det) (-48.991063188203753 > -76.050617261893166). You may want to try with a higher value of support_fraction (current value: 0.501).\n",
      "  RuntimeWarning)\n",
      "C:\\ProgramData\\Anaconda3\\lib\\site-packages\\sklearn\\covariance\\_robust_covariance.py:171: RuntimeWarning: Determinant has increased; this should not happen: log(det) > log(previous_det) (-49.614119881843664 > -78.443778230531748). You may want to try with a higher value of support_fraction (current value: 0.501).\n",
      "  RuntimeWarning)\n"
     ]
    },
    {
     "name": "stdout",
     "output_type": "stream",
     "text": [
      "Minimum Covariance Determinant (MCD) ROC:0.9895,precision @ rank n:0.7261,execution time:12.7173s\n",
      "One-class SVM (OCSVM) ROC:0.9912,precision @ rank n:0.9548,execution time:71.0s\n",
      "Principal Component Analysis (PCA) ROC:0.9889,precision @ rank n:0.9511,execution time:0.045s\n",
      "\n",
      "...Processing vertebral.mat ...\n",
      "Angle-based outlier Detector(ABOD) ROC:0.2841,precision @ rank n:0.0,execution time:0.0859s\n"
     ]
    },
    {
     "name": "stderr",
     "output_type": "stream",
     "text": [
      "C:\\ProgramData\\Anaconda3\\lib\\site-packages\\sklearn\\cluster\\_kmeans.py:974: FutureWarning: 'n_jobs' was deprecated in version 0.23 and will be removed in 0.25.\n",
      "  \" removed in 0.25.\", FutureWarning)\n"
     ]
    },
    {
     "name": "stdout",
     "output_type": "stream",
     "text": [
      "Cluster-based Local Outlier Factore ROC:0.3226,precision @ rank n:0.0,execution time:0.079s\n",
      "Feature bagging ROC:0.2841,precision @ rank n:0.0,execution time:0.048s\n",
      "Histogram-based Outliers Detection(HBOS) ROC:0.297,precision @ rank n:0.0,execution time:0.003s\n",
      "Isolation Foreset ROC:0.2279,precision @ rank n:0.0,execution time:0.4947s\n",
      "K Nearest Neighbours (KNN) ROC:0.2279,precision @ rank n:0.0,execution time:0.016s\n",
      "Local Outliers Factore(LOF) ROC:0.2713,precision @ rank n:0.0,execution time:0.005s\n",
      "Minimum Covariance Determinant (MCD) ROC:0.3018,precision @ rank n:0.0,execution time:0.0628s\n",
      "One-class SVM (OCSVM) ROC:0.3852,precision @ rank n:0.0,execution time:0.002s\n",
      "Principal Component Analysis (PCA) ROC:0.3917,precision @ rank n:0.0,execution time:0.003s\n",
      "\n",
      "...Processing vowels.mat ...\n",
      "Angle-based outlier Detector(ABOD) ROC:0.9332,precision @ rank n:0.4762,execution time:0.5237s\n",
      "Cluster-based Local Outlier Factore ROC:0.8609,precision @ rank n:0.1429,execution time:0.1119s\n"
     ]
    },
    {
     "name": "stderr",
     "output_type": "stream",
     "text": [
      "C:\\ProgramData\\Anaconda3\\lib\\site-packages\\sklearn\\cluster\\_kmeans.py:974: FutureWarning: 'n_jobs' was deprecated in version 0.23 and will be removed in 0.25.\n",
      "  \" removed in 0.25.\", FutureWarning)\n"
     ]
    },
    {
     "name": "stdout",
     "output_type": "stream",
     "text": [
      "Feature bagging ROC:0.9353,precision @ rank n:0.2381,execution time:0.3758s\n",
      "Histogram-based Outliers Detection(HBOS) ROC:0.6634,precision @ rank n:0.1429,execution time:0.007s\n",
      "Isolation Foreset ROC:0.7132,precision @ rank n:0.1905,execution time:0.5397s\n",
      "K Nearest Neighbours (KNN) ROC:0.9592,precision @ rank n:0.4286,execution time:0.1149s\n",
      "Local Outliers Factore(LOF) ROC:0.9182,precision @ rank n:0.1905,execution time:0.043s\n",
      "Minimum Covariance Determinant (MCD) ROC:0.6453,precision @ rank n:0.0,execution time:1.1132s\n",
      "One-class SVM (OCSVM) ROC:0.7189,precision @ rank n:0.1905,execution time:0.052s\n",
      "Principal Component Analysis (PCA) ROC:0.5703,precision @ rank n:0.1429,execution time:0.004s\n",
      "\n",
      "...Processing wbc.mat ...\n",
      "Angle-based outlier Detector(ABOD) ROC:0.9083,precision @ rank n:0.3333,execution time:0.1349s\n",
      "Cluster-based Local Outlier Factore ROC:0.934,precision @ rank n:0.5556,execution time:0.0859s\n",
      "Feature bagging ROC:0.9557,precision @ rank n:0.6667,execution time:0.0899s\n"
     ]
    },
    {
     "name": "stderr",
     "output_type": "stream",
     "text": [
      "C:\\ProgramData\\Anaconda3\\lib\\site-packages\\sklearn\\cluster\\_kmeans.py:974: FutureWarning: 'n_jobs' was deprecated in version 0.23 and will be removed in 0.25.\n",
      "  \" removed in 0.25.\", FutureWarning)\n"
     ]
    },
    {
     "name": "stdout",
     "output_type": "stream",
     "text": [
      "Histogram-based Outliers Detection(HBOS) ROC:0.9526,precision @ rank n:0.6667,execution time:0.014s\n",
      "Isolation Foreset ROC:0.9068,precision @ rank n:0.5556,execution time:0.5037s\n",
      "K Nearest Neighbours (KNN) ROC:0.9557,precision @ rank n:0.6667,execution time:0.029s\n",
      "Local Outliers Factore(LOF) ROC:0.9643,precision @ rank n:0.6667,execution time:0.009s\n",
      "Minimum Covariance Determinant (MCD) ROC:0.9037,precision @ rank n:0.3333,execution time:0.0849s\n",
      "One-class SVM (OCSVM) ROC:0.9479,precision @ rank n:0.6667,execution time:0.007s\n",
      "Principal Component Analysis (PCA) ROC:0.9176,precision @ rank n:0.5556,execution time:0.004s\n"
     ]
    }
   ],
   "source": [
    "from time import time\n",
    "random_state = np.random.RandomState(42)\n",
    "for mat_file in mat_file_list:\n",
    "    print(\"\\n...Processing\",mat_file,'...')   \n",
    "    mat = loadmat(os.path.join('D://ML//dataset//Anamoly_detec_data',mat_file))\n",
    "    \n",
    "    X = mat['X']\n",
    "    y = mat['y'].ravel()   # # convert 2d to 1d \n",
    "    outliers_fraction = np.count_nonzero(y) / len(y)\n",
    "    outliers_percentage = round(outliers_fraction * 100,ndigits=4)\n",
    "    # construct containers for saving results\n",
    "    roc_list = [mat_file[:-4],X.shape[0],X.shape[1],outliers_percentage]\n",
    "    prn_list = [mat_file[:-4],X.shape[0],X.shape[1],outliers_percentage]\n",
    "    time_list = [mat_file[:-4],X.shape[0],X.shape[1],outliers_percentage]\n",
    "    \n",
    "    # train test split\n",
    "    X_train,X_test,y_train,y_test = train_test_split(X,y,test_size=0.4,random_state=random_state)\n",
    "    \n",
    "    # standardizating data for processiing\n",
    "    X_train_norm,X_test_norm = standardizer(X_train,X_test)\n",
    "    \n",
    "    classifiers = {'Angle-based outlier Detector(ABOD)':ABOD(contamination=outliers_fraction),\n",
    "                   'Cluster-based Local Outlier Factore':CBLOF(contamination=outliers_fraction,check_estimator=False,random_state=random_state),\n",
    "                   'Feature bagging':FeatureBagging(contamination=outliers_fraction,random_state=random_state),\n",
    "                   'Histogram-based Outliers Detection(HBOS)':HBOS(contamination=outliers_fraction),\n",
    "                   'Isolation Foreset':IForest(contamination=outliers_fraction,random_state=random_state),\n",
    "                   'K Nearest Neighbours (KNN)':KNN(contamination=outliers_fraction),\n",
    "                   'Local Outliers Factore(LOF)':LOF(contamination=outliers_fraction),\n",
    "                   'Minimum Covariance Determinant (MCD)': MCD(contamination=outliers_fraction,random_state=random_state),\n",
    "                   'One-class SVM (OCSVM)':OCSVM(contamination=outliers_fraction),\n",
    "                   'Principal Component Analysis (PCA)': PCA(contamination=outliers_fraction,random_state=random_state)\n",
    "                  }\n",
    "    \n",
    "    for clf_name, clf in classifiers.items():\n",
    "        t0 = time()\n",
    "        clf.fit(X_train_norm)\n",
    "        test_scores = clf.decision_function(X_test_norm)\n",
    "        t1 = time()\n",
    "        duration = round(t1-t0,ndigits =4)\n",
    "        time_list.append(duration)\n",
    "        \n",
    "        roc = round(roc_auc_score(y_test,test_scores),ndigits=4)\n",
    "        prn = round(precision_n_scores(y_test,test_scores),ndigits=4)\n",
    "        \n",
    "        print('{clf_name} ROC:{roc},precision @ rank n:{prn},'\n",
    "             'execution time:{duration}s'.format(\n",
    "                 clf_name = clf_name,roc=roc,prn=prn,duration=duration))\n",
    "    \n",
    "        roc_list.append(roc)\n",
    "        prn_list.append(prn)\n",
    "    \n",
    "\n",
    "temp_df = pd.DataFrame(time_list).transpose()\n",
    "temp_df.columns = df_columns\n",
    "time_df = pd.concat([time_df,temp_df],axis =0)\n",
    "\n",
    "temp_df = pd.DataFrame(roc_list).transpose()\n",
    "temp_df.columns = df_columns\n",
    "roc_df = pd.concat([roc_df,temp_df],axis=0)\n",
    "\n",
    "temp_df = pd.DataFrame(prn_list).transpose()\n",
    "temp_df.columns = df_columns\n",
    "prn_df = pd.concat([prn_df,temp_df],axis=0)\n",
    "    "
   ]
  },
  {
   "cell_type": "code",
   "execution_count": 45,
   "metadata": {},
   "outputs": [
    {
     "data": {
      "text/html": [
       "<div>\n",
       "<style scoped>\n",
       "    .dataframe tbody tr th:only-of-type {\n",
       "        vertical-align: middle;\n",
       "    }\n",
       "\n",
       "    .dataframe tbody tr th {\n",
       "        vertical-align: top;\n",
       "    }\n",
       "\n",
       "    .dataframe thead th {\n",
       "        text-align: right;\n",
       "    }\n",
       "</style>\n",
       "<table border=\"1\" class=\"dataframe\">\n",
       "  <thead>\n",
       "    <tr style=\"text-align: right;\">\n",
       "      <th></th>\n",
       "      <th>Data</th>\n",
       "      <th>#Samples</th>\n",
       "      <th># Dimensions</th>\n",
       "      <th>Outlier Perc</th>\n",
       "      <th>ABOD</th>\n",
       "      <th>CBLOF</th>\n",
       "      <th>FB</th>\n",
       "      <th>HBOS</th>\n",
       "      <th>IForest</th>\n",
       "      <th>KNN</th>\n",
       "      <th>LOF</th>\n",
       "      <th>MCD</th>\n",
       "      <th>OCSVM</th>\n",
       "      <th>PCA</th>\n",
       "    </tr>\n",
       "  </thead>\n",
       "  <tbody>\n",
       "    <tr>\n",
       "      <th>0</th>\n",
       "      <td>wbc</td>\n",
       "      <td>378</td>\n",
       "      <td>30</td>\n",
       "      <td>5.5556</td>\n",
       "      <td>0.1939</td>\n",
       "      <td>0.1069</td>\n",
       "      <td>0.2449</td>\n",
       "      <td>0.041</td>\n",
       "      <td>0.8305</td>\n",
       "      <td>0.03</td>\n",
       "      <td>0.01</td>\n",
       "      <td>0.0969</td>\n",
       "      <td>0.007</td>\n",
       "      <td>0.004</td>\n",
       "    </tr>\n",
       "    <tr>\n",
       "      <th>0</th>\n",
       "      <td>wbc</td>\n",
       "      <td>378</td>\n",
       "      <td>30</td>\n",
       "      <td>5.5556</td>\n",
       "      <td>0.1349</td>\n",
       "      <td>0.0859</td>\n",
       "      <td>0.0899</td>\n",
       "      <td>0.014</td>\n",
       "      <td>0.5037</td>\n",
       "      <td>0.029</td>\n",
       "      <td>0.009</td>\n",
       "      <td>0.0849</td>\n",
       "      <td>0.007</td>\n",
       "      <td>0.004</td>\n",
       "    </tr>\n",
       "  </tbody>\n",
       "</table>\n",
       "</div>"
      ],
      "text/plain": [
       "  Data #Samples # Dimensions Outlier Perc    ABOD   CBLOF      FB   HBOS  \\\n",
       "0  wbc      378           30       5.5556  0.1939  0.1069  0.2449  0.041   \n",
       "0  wbc      378           30       5.5556  0.1349  0.0859  0.0899  0.014   \n",
       "\n",
       "  IForest    KNN    LOF     MCD  OCSVM    PCA  \n",
       "0  0.8305   0.03   0.01  0.0969  0.007  0.004  \n",
       "0  0.5037  0.029  0.009  0.0849  0.007  0.004  "
      ]
     },
     "execution_count": 45,
     "metadata": {},
     "output_type": "execute_result"
    }
   ],
   "source": [
    "time_df"
   ]
  },
  {
   "cell_type": "code",
   "execution_count": null,
   "metadata": {},
   "outputs": [],
   "source": []
  }
 ],
 "metadata": {
  "kernelspec": {
   "display_name": "Python 3",
   "language": "python",
   "name": "python3"
  },
  "language_info": {
   "codemirror_mode": {
    "name": "ipython",
    "version": 3
   },
   "file_extension": ".py",
   "mimetype": "text/x-python",
   "name": "python",
   "nbconvert_exporter": "python",
   "pygments_lexer": "ipython3",
   "version": "3.7.6"
  }
 },
 "nbformat": 4,
 "nbformat_minor": 4
}
